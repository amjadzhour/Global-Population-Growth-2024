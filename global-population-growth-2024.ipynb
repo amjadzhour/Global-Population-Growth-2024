{
 "cells": [
  {
   "cell_type": "markdown",
   "id": "7c9449e7",
   "metadata": {
    "papermill": {
     "duration": 0.010756,
     "end_time": "2024-08-23T18:09:57.306553",
     "exception": false,
     "start_time": "2024-08-23T18:09:57.295797",
     "status": "completed"
    },
    "tags": []
   },
   "source": [
    "#  <p style=\"width: 800px; border-radius: 12px; border: 3px dashed #ffe81c; padding: 20px; background-color: #058BDD; text-align: center; box-shadow: 0px 6px 12px rgba(0, 0, 0, 0.3); color: #F0FF00; text-shadow: 1px 1px 2px rgba(0, 0, 0, 0.3); font-weight: bold; margin-bottom: 15px; font-size: 30px;\"> Global Population Growth 2024</p>"
   ]
  },
  {
   "cell_type": "code",
   "execution_count": 1,
   "id": "dde7ccd3",
   "metadata": {
    "execution": {
     "iopub.execute_input": "2024-08-23T18:09:57.329840Z",
     "iopub.status.busy": "2024-08-23T18:09:57.329255Z",
     "iopub.status.idle": "2024-08-23T18:09:59.623707Z",
     "shell.execute_reply": "2024-08-23T18:09:59.622518Z"
    },
    "papermill": {
     "duration": 2.309314,
     "end_time": "2024-08-23T18:09:59.626320",
     "exception": false,
     "start_time": "2024-08-23T18:09:57.317006",
     "status": "completed"
    },
    "tags": []
   },
   "outputs": [],
   "source": [
    "import pandas as pd \n",
    "import seaborn as sns \n",
    "import matplotlib.pyplot as plt \n",
    "import numpy as np "
   ]
  },
  {
   "cell_type": "markdown",
   "id": "934889eb",
   "metadata": {
    "papermill": {
     "duration": 0.009728,
     "end_time": "2024-08-23T18:09:59.646187",
     "exception": false,
     "start_time": "2024-08-23T18:09:59.636459",
     "status": "completed"
    },
    "tags": []
   },
   "source": [
    "# <p style=\"width: 800px; border-radius: 12px; border: 3px dashed #ffe81c; padding: 20px; background-color: #058BDD; text-align: center; box-shadow: 0px 6px 12px rgba(0, 0, 0, 0.3); color: #F0FF00; text-shadow: 1px 1px 2px rgba(0, 0, 0, 0.3); font-weight: bold; margin-bottom: 15px; font-size: 30px;\">Readers data</p>"
   ]
  },
  {
   "cell_type": "code",
   "execution_count": 2,
   "id": "86b12a9f",
   "metadata": {
    "execution": {
     "iopub.execute_input": "2024-08-23T18:09:59.670382Z",
     "iopub.status.busy": "2024-08-23T18:09:59.669777Z",
     "iopub.status.idle": "2024-08-23T18:09:59.696626Z",
     "shell.execute_reply": "2024-08-23T18:09:59.695090Z"
    },
    "papermill": {
     "duration": 0.043267,
     "end_time": "2024-08-23T18:09:59.699466",
     "exception": false,
     "start_time": "2024-08-23T18:09:59.656199",
     "status": "completed"
    },
    "tags": []
   },
   "outputs": [],
   "source": [
    "df=pd.read_csv(\"/kaggle/input/global-population-growth-2024/global_population_growth_2024.csv\")"
   ]
  },
  {
   "cell_type": "code",
   "execution_count": 3,
   "id": "edd3ed54",
   "metadata": {
    "execution": {
     "iopub.execute_input": "2024-08-23T18:09:59.723812Z",
     "iopub.status.busy": "2024-08-23T18:09:59.722097Z",
     "iopub.status.idle": "2024-08-23T18:09:59.753860Z",
     "shell.execute_reply": "2024-08-23T18:09:59.752583Z"
    },
    "papermill": {
     "duration": 0.0466,
     "end_time": "2024-08-23T18:09:59.756383",
     "exception": false,
     "start_time": "2024-08-23T18:09:59.709783",
     "status": "completed"
    },
    "tags": []
   },
   "outputs": [
    {
     "data": {
      "text/html": [
       "<div>\n",
       "<style scoped>\n",
       "    .dataframe tbody tr th:only-of-type {\n",
       "        vertical-align: middle;\n",
       "    }\n",
       "\n",
       "    .dataframe tbody tr th {\n",
       "        vertical-align: top;\n",
       "    }\n",
       "\n",
       "    .dataframe thead th {\n",
       "        text-align: right;\n",
       "    }\n",
       "</style>\n",
       "<table border=\"1\" class=\"dataframe\">\n",
       "  <thead>\n",
       "    <tr style=\"text-align: right;\">\n",
       "      <th></th>\n",
       "      <th>City</th>\n",
       "      <th>Country</th>\n",
       "      <th>Population_2023</th>\n",
       "      <th>Growth_Rate (%)</th>\n",
       "      <th>Population_2024</th>\n",
       "    </tr>\n",
       "  </thead>\n",
       "  <tbody>\n",
       "    <tr>\n",
       "      <th>0</th>\n",
       "      <td>Los Angeles</td>\n",
       "      <td>USA</td>\n",
       "      <td>26836512</td>\n",
       "      <td>1.308574</td>\n",
       "      <td>27187687</td>\n",
       "    </tr>\n",
       "    <tr>\n",
       "      <th>1</th>\n",
       "      <td>Shanghai</td>\n",
       "      <td>China</td>\n",
       "      <td>11673774</td>\n",
       "      <td>1.568945</td>\n",
       "      <td>11856929</td>\n",
       "    </tr>\n",
       "    <tr>\n",
       "      <th>2</th>\n",
       "      <td>Cairo</td>\n",
       "      <td>Egypt</td>\n",
       "      <td>22201723</td>\n",
       "      <td>4.871278</td>\n",
       "      <td>23283230</td>\n",
       "    </tr>\n",
       "    <tr>\n",
       "      <th>3</th>\n",
       "      <td>Mumbai</td>\n",
       "      <td>India</td>\n",
       "      <td>11440139</td>\n",
       "      <td>1.314396</td>\n",
       "      <td>11590507</td>\n",
       "    </tr>\n",
       "    <tr>\n",
       "      <th>4</th>\n",
       "      <td>Los Angeles</td>\n",
       "      <td>USA</td>\n",
       "      <td>3792427</td>\n",
       "      <td>4.344733</td>\n",
       "      <td>3957197</td>\n",
       "    </tr>\n",
       "  </tbody>\n",
       "</table>\n",
       "</div>"
      ],
      "text/plain": [
       "          City Country  Population_2023  Growth_Rate (%)  Population_2024\n",
       "0  Los Angeles     USA         26836512         1.308574         27187687\n",
       "1     Shanghai   China         11673774         1.568945         11856929\n",
       "2        Cairo   Egypt         22201723         4.871278         23283230\n",
       "3       Mumbai   India         11440139         1.314396         11590507\n",
       "4  Los Angeles     USA          3792427         4.344733          3957197"
      ]
     },
     "execution_count": 3,
     "metadata": {},
     "output_type": "execute_result"
    }
   ],
   "source": [
    "df.head()\n"
   ]
  },
  {
   "cell_type": "markdown",
   "id": "716c2c8a",
   "metadata": {
    "papermill": {
     "duration": 0.01039,
     "end_time": "2024-08-23T18:09:59.777494",
     "exception": false,
     "start_time": "2024-08-23T18:09:59.767104",
     "status": "completed"
    },
    "tags": []
   },
   "source": [
    "# <p style=\"width: 800px; border-radius: 12px; border: 3px dashed #ffe81c; padding: 20px; background-color: #058BDD; text-align: center; box-shadow: 0px 6px 12px rgba(0, 0, 0, 0.3); color: #F0FF00; text-shadow: 1px 1px 2px rgba(0, 0, 0, 0.3); font-weight: bold; margin-bottom: 15px; font-size: 30px;\">describe in data</p>"
   ]
  },
  {
   "cell_type": "code",
   "execution_count": 4,
   "id": "9c10157f",
   "metadata": {
    "execution": {
     "iopub.execute_input": "2024-08-23T18:09:59.800280Z",
     "iopub.status.busy": "2024-08-23T18:09:59.799832Z",
     "iopub.status.idle": "2024-08-23T18:09:59.828965Z",
     "shell.execute_reply": "2024-08-23T18:09:59.827712Z"
    },
    "papermill": {
     "duration": 0.043494,
     "end_time": "2024-08-23T18:09:59.831763",
     "exception": false,
     "start_time": "2024-08-23T18:09:59.788269",
     "status": "completed"
    },
    "tags": []
   },
   "outputs": [
    {
     "data": {
      "text/html": [
       "<div>\n",
       "<style scoped>\n",
       "    .dataframe tbody tr th:only-of-type {\n",
       "        vertical-align: middle;\n",
       "    }\n",
       "\n",
       "    .dataframe tbody tr th {\n",
       "        vertical-align: top;\n",
       "    }\n",
       "\n",
       "    .dataframe thead th {\n",
       "        text-align: right;\n",
       "    }\n",
       "</style>\n",
       "<table border=\"1\" class=\"dataframe\">\n",
       "  <thead>\n",
       "    <tr style=\"text-align: right;\">\n",
       "      <th></th>\n",
       "      <th>count</th>\n",
       "      <th>mean</th>\n",
       "      <th>std</th>\n",
       "      <th>min</th>\n",
       "      <th>25%</th>\n",
       "      <th>50%</th>\n",
       "      <th>75%</th>\n",
       "      <th>max</th>\n",
       "    </tr>\n",
       "  </thead>\n",
       "  <tbody>\n",
       "    <tr>\n",
       "      <th>Population_2023</th>\n",
       "      <td>1000.0</td>\n",
       "      <td>1.555745e+07</td>\n",
       "      <td>8.188922e+06</td>\n",
       "      <td>1.076218e+06</td>\n",
       "      <td>8.767388e+06</td>\n",
       "      <td>1.538409e+07</td>\n",
       "      <td>2.265558e+07</td>\n",
       "      <td>2.999429e+07</td>\n",
       "    </tr>\n",
       "    <tr>\n",
       "      <th>Growth_Rate (%)</th>\n",
       "      <td>1000.0</td>\n",
       "      <td>2.738825e+00</td>\n",
       "      <td>1.296754e+00</td>\n",
       "      <td>5.070430e-01</td>\n",
       "      <td>1.606459e+00</td>\n",
       "      <td>2.782955e+00</td>\n",
       "      <td>3.819846e+00</td>\n",
       "      <td>4.997362e+00</td>\n",
       "    </tr>\n",
       "    <tr>\n",
       "      <th>Population_2024</th>\n",
       "      <td>1000.0</td>\n",
       "      <td>1.598217e+07</td>\n",
       "      <td>8.415373e+06</td>\n",
       "      <td>1.082482e+06</td>\n",
       "      <td>8.914246e+06</td>\n",
       "      <td>1.589204e+07</td>\n",
       "      <td>2.322489e+07</td>\n",
       "      <td>3.122415e+07</td>\n",
       "    </tr>\n",
       "  </tbody>\n",
       "</table>\n",
       "</div>"
      ],
      "text/plain": [
       "                  count          mean           std           min  \\\n",
       "Population_2023  1000.0  1.555745e+07  8.188922e+06  1.076218e+06   \n",
       "Growth_Rate (%)  1000.0  2.738825e+00  1.296754e+00  5.070430e-01   \n",
       "Population_2024  1000.0  1.598217e+07  8.415373e+06  1.082482e+06   \n",
       "\n",
       "                          25%           50%           75%           max  \n",
       "Population_2023  8.767388e+06  1.538409e+07  2.265558e+07  2.999429e+07  \n",
       "Growth_Rate (%)  1.606459e+00  2.782955e+00  3.819846e+00  4.997362e+00  \n",
       "Population_2024  8.914246e+06  1.589204e+07  2.322489e+07  3.122415e+07  "
      ]
     },
     "execution_count": 4,
     "metadata": {},
     "output_type": "execute_result"
    }
   ],
   "source": [
    "df.describe().transpose()"
   ]
  },
  {
   "cell_type": "code",
   "execution_count": 5,
   "id": "a9631324",
   "metadata": {
    "execution": {
     "iopub.execute_input": "2024-08-23T18:09:59.855890Z",
     "iopub.status.busy": "2024-08-23T18:09:59.855434Z",
     "iopub.status.idle": "2024-08-23T18:09:59.866360Z",
     "shell.execute_reply": "2024-08-23T18:09:59.865094Z"
    },
    "papermill": {
     "duration": 0.025579,
     "end_time": "2024-08-23T18:09:59.868636",
     "exception": false,
     "start_time": "2024-08-23T18:09:59.843057",
     "status": "completed"
    },
    "tags": []
   },
   "outputs": [
    {
     "data": {
      "text/plain": [
       "array(['USA', 'China', 'Egypt', 'India', 'Australia', 'UK', 'Brazil',\n",
       "       'Japan', 'Russia'], dtype=object)"
      ]
     },
     "execution_count": 5,
     "metadata": {},
     "output_type": "execute_result"
    }
   ],
   "source": [
    "df['Country'].unique()"
   ]
  },
  {
   "cell_type": "markdown",
   "id": "bc971aa9",
   "metadata": {
    "papermill": {
     "duration": 0.01035,
     "end_time": "2024-08-23T18:09:59.889549",
     "exception": false,
     "start_time": "2024-08-23T18:09:59.879199",
     "status": "completed"
    },
    "tags": []
   },
   "source": [
    "# <p style=\"width: 800px; border-radius: 12px; border: 3px dashed #ffe81c; padding: 20px; background-color: #058BDD; text-align: center; box-shadow: 0px 6px 12px rgba(0, 0, 0, 0.3); color: #F0FF00; text-shadow: 1px 1px 2px rgba(0, 0, 0, 0.3); font-weight: bold; margin-bottom: 15px; font-size: 30px;\">missing values</p>"
   ]
  },
  {
   "cell_type": "code",
   "execution_count": 6,
   "id": "39f11eb7",
   "metadata": {
    "execution": {
     "iopub.execute_input": "2024-08-23T18:09:59.912286Z",
     "iopub.status.busy": "2024-08-23T18:09:59.911835Z",
     "iopub.status.idle": "2024-08-23T18:09:59.921416Z",
     "shell.execute_reply": "2024-08-23T18:09:59.920378Z"
    },
    "papermill": {
     "duration": 0.023626,
     "end_time": "2024-08-23T18:09:59.923729",
     "exception": false,
     "start_time": "2024-08-23T18:09:59.900103",
     "status": "completed"
    },
    "tags": []
   },
   "outputs": [
    {
     "data": {
      "text/plain": [
       "City               0\n",
       "Country            0\n",
       "Population_2023    0\n",
       "Growth_Rate (%)    0\n",
       "Population_2024    0\n",
       "dtype: int64"
      ]
     },
     "execution_count": 6,
     "metadata": {},
     "output_type": "execute_result"
    }
   ],
   "source": [
    "df.isnull().sum()"
   ]
  },
  {
   "cell_type": "markdown",
   "id": "06191dc0",
   "metadata": {
    "papermill": {
     "duration": 0.010984,
     "end_time": "2024-08-23T18:09:59.945799",
     "exception": false,
     "start_time": "2024-08-23T18:09:59.934815",
     "status": "completed"
    },
    "tags": []
   },
   "source": [
    "outlier values# <p style=\"width: 800px; border-radius: 12px; border: 3px dashed #ffe81c; padding: 20px; background-color: #058BDD; text-align: center; box-shadow: 0px 6px 12px rgba(0, 0, 0, 0.3); color: #F0FF00; text-shadow: 1px 1px 2px rgba(0, 0, 0, 0.3); font-weight: bold; margin-bottom: 15px; font-size: 30px;\">outlier values</p>"
   ]
  },
  {
   "cell_type": "code",
   "execution_count": 7,
   "id": "5005aa20",
   "metadata": {
    "execution": {
     "iopub.execute_input": "2024-08-23T18:09:59.969137Z",
     "iopub.status.busy": "2024-08-23T18:09:59.968699Z",
     "iopub.status.idle": "2024-08-23T18:10:00.195566Z",
     "shell.execute_reply": "2024-08-23T18:10:00.194134Z"
    },
    "papermill": {
     "duration": 0.242543,
     "end_time": "2024-08-23T18:10:00.199057",
     "exception": false,
     "start_time": "2024-08-23T18:09:59.956514",
     "status": "completed"
    },
    "tags": []
   },
   "outputs": [
    {
     "data": {
      "text/plain": [
       "<Axes: xlabel='Growth_Rate (%)'>"
      ]
     },
     "execution_count": 7,
     "metadata": {},
     "output_type": "execute_result"
    },
    {
     "data": {
      "image/png": "[encoded data removed]",
      "text/plain": [
       "<Figure size 640x480 with 1 Axes>"
      ]
     },
     "metadata": {},
     "output_type": "display_data"
    }
   ],
   "source": [
    "sns.boxplot(data=df,x='Growth_Rate (%)')"
   ]
  },
  {
   "cell_type": "code",
   "execution_count": 8,
   "id": "4145c948",
   "metadata": {
    "execution": {
     "iopub.execute_input": "2024-08-23T18:10:00.223305Z",
     "iopub.status.busy": "2024-08-23T18:10:00.222860Z",
     "iopub.status.idle": "2024-08-23T18:10:00.412328Z",
     "shell.execute_reply": "2024-08-23T18:10:00.410568Z"
    },
    "papermill": {
     "duration": 0.205321,
     "end_time": "2024-08-23T18:10:00.415582",
     "exception": false,
     "start_time": "2024-08-23T18:10:00.210261",
     "status": "completed"
    },
    "tags": []
   },
   "outputs": [
    {
     "data": {
      "text/plain": [
       "<Axes: xlabel='Population_2023'>"
      ]
     },
     "execution_count": 8,
     "metadata": {},
     "output_type": "execute_result"
    },
    {
     "data": {
      "image/png": "[encoded data removed]",
      "text/plain": [
       "<Figure size 640x480 with 1 Axes>"
      ]
     },
     "metadata": {},
     "output_type": "display_data"
    }
   ],
   "source": [
    "sns.boxplot(data=df,x='Population_2023')"
   ]
  },
  {
   "cell_type": "code",
   "execution_count": 9,
   "id": "719b43af",
   "metadata": {
    "execution": {
     "iopub.execute_input": "2024-08-23T18:10:00.442588Z",
     "iopub.status.busy": "2024-08-23T18:10:00.442141Z",
     "iopub.status.idle": "2024-08-23T18:10:00.634301Z",
     "shell.execute_reply": "2024-08-23T18:10:00.633070Z"
    },
    "papermill": {
     "duration": 0.209061,
     "end_time": "2024-08-23T18:10:00.637005",
     "exception": false,
     "start_time": "2024-08-23T18:10:00.427944",
     "status": "completed"
    },
    "tags": []
   },
   "outputs": [
    {
     "data": {
      "text/plain": [
       "<Axes: xlabel='Population_2024'>"
      ]
     },
     "execution_count": 9,
     "metadata": {},
     "output_type": "execute_result"
    },
    {
     "data": {
      "image/png": "[encoded data removed]",
      "text/plain": [
       "<Figure size 640x480 with 1 Axes>"
      ]
     },
     "metadata": {},
     "output_type": "display_data"
    }
   ],
   "source": [
    "sns.boxplot(data=df,x='Population_2024')"
   ]
  },
  {
   "cell_type": "markdown",
   "id": "325e7269",
   "metadata": {
    "papermill": {
     "duration": 0.011496,
     "end_time": "2024-08-23T18:10:00.660392",
     "exception": false,
     "start_time": "2024-08-23T18:10:00.648896",
     "status": "completed"
    },
    "tags": []
   },
   "source": [
    "outlier values# <p style=\"width: 800px; border-radius: 12px; border: 3px dashed #ffe81c; padding: 20px; background-color: #058BDD; text-align: center; box-shadow: 0px 6px 12px rgba(0, 0, 0, 0.3); color: #F0FF00; text-shadow: 1px 1px 2px rgba(0, 0, 0, 0.3); font-weight: bold; margin-bottom: 15px; font-size: 30px;\">nothing outlier values</p>"
   ]
  },
  {
   "cell_type": "markdown",
   "id": "822d1655",
   "metadata": {
    "papermill": {
     "duration": 0.011405,
     "end_time": "2024-08-23T18:10:00.683497",
     "exception": false,
     "start_time": "2024-08-23T18:10:00.672092",
     "status": "completed"
    },
    "tags": []
   },
   "source": [
    "# <p style=\"width: 800px; border-radius: 12px; border: 3px dashed #ffe81c; padding: 20px; background-color: #058BDD; text-align: center; box-shadow: 0px 6px 12px rgba(0, 0, 0, 0.3); color: #F0FF00; text-shadow: 1px 1px 2px rgba(0, 0, 0, 0.3); font-weight: bold; margin-bottom: 15px; font-size: 30px;\">duplicated values</p>"
   ]
  },
  {
   "cell_type": "code",
   "execution_count": 10,
   "id": "3ba9d7b3",
   "metadata": {
    "execution": {
     "iopub.execute_input": "2024-08-23T18:10:00.709092Z",
     "iopub.status.busy": "2024-08-23T18:10:00.708608Z",
     "iopub.status.idle": "2024-08-23T18:10:00.719972Z",
     "shell.execute_reply": "2024-08-23T18:10:00.718705Z"
    },
    "papermill": {
     "duration": 0.027207,
     "end_time": "2024-08-23T18:10:00.722501",
     "exception": false,
     "start_time": "2024-08-23T18:10:00.695294",
     "status": "completed"
    },
    "tags": []
   },
   "outputs": [
    {
     "data": {
      "text/plain": [
       "0"
      ]
     },
     "execution_count": 10,
     "metadata": {},
     "output_type": "execute_result"
    }
   ],
   "source": [
    "df.duplicated().sum()"
   ]
  },
  {
   "cell_type": "markdown",
   "id": "c239b90e",
   "metadata": {
    "papermill": {
     "duration": 0.013814,
     "end_time": "2024-08-23T18:10:00.748843",
     "exception": false,
     "start_time": "2024-08-23T18:10:00.735029",
     "status": "completed"
    },
    "tags": []
   },
   "source": [
    "# <p style=\"width: 800px; border-radius: 12px; border: 3px dashed #ffe81c; padding: 20px; background-color: #058BDD; text-align: center; box-shadow: 0px 6px 12px rgba(0, 0, 0, 0.3); color: #F0FF00; text-shadow: 1px 1px 2px rgba(0, 0, 0, 0.3); font-weight: bold; margin-bottom: 15px; font-size: 30px;\">Showing relationships in data</p>"
   ]
  },
  {
   "cell_type": "code",
   "execution_count": 11,
   "id": "bb32bc82",
   "metadata": {
    "execution": {
     "iopub.execute_input": "2024-08-23T18:10:00.774846Z",
     "iopub.status.busy": "2024-08-23T18:10:00.774416Z",
     "iopub.status.idle": "2024-08-23T18:10:01.266292Z",
     "shell.execute_reply": "2024-08-23T18:10:01.265094Z"
    },
    "papermill": {
     "duration": 0.507633,
     "end_time": "2024-08-23T18:10:01.268807",
     "exception": false,
     "start_time": "2024-08-23T18:10:00.761174",
     "status": "completed"
    },
    "tags": []
   },
   "outputs": [
    {
     "data": {
      "text/plain": [
       "<Axes: xlabel='Country', ylabel='Growth_Rate (%)'>"
      ]
     },
     "execution_count": 11,
     "metadata": {},
     "output_type": "execute_result"
    },
    {
     "data": {
      "image/png": "[encoded data removed]",
      "text/plain": [
       "<Figure size 640x480 with 1 Axes>"
      ]
     },
     "metadata": {},
     "output_type": "display_data"
    }
   ],
   "source": [
    "sns.barplot(data=df,x='Country',y='Growth_Rate (%)')"
   ]
  },
  {
   "cell_type": "markdown",
   "id": "905a845e",
   "metadata": {
    "papermill": {
     "duration": 0.012019,
     "end_time": "2024-08-23T18:10:01.293144",
     "exception": false,
     "start_time": "2024-08-23T18:10:01.281125",
     "status": "completed"
    },
    "tags": []
   },
   "source": [
    "# I've noticed that the USA, Russia, and China are the countries with the highest growth rates.\n",
    "#   It seems that the USA, Russia, and China are leading the pack with the most significant growth rates."
   ]
  },
  {
   "cell_type": "code",
   "execution_count": 12,
   "id": "b1551d37",
   "metadata": {
    "execution": {
     "iopub.execute_input": "2024-08-23T18:10:01.320328Z",
     "iopub.status.busy": "2024-08-23T18:10:01.319884Z",
     "iopub.status.idle": "2024-08-23T18:10:01.835988Z",
     "shell.execute_reply": "2024-08-23T18:10:01.834632Z"
    },
    "papermill": {
     "duration": 0.533344,
     "end_time": "2024-08-23T18:10:01.839245",
     "exception": false,
     "start_time": "2024-08-23T18:10:01.305901",
     "status": "completed"
    },
    "tags": []
   },
   "outputs": [
    {
     "data": {
      "text/plain": [
       "<Axes: xlabel='Country', ylabel='Population_2024'>"
      ]
     },
     "execution_count": 12,
     "metadata": {},
     "output_type": "execute_result"
    },
    {
     "data": {
      "image/png": "[encoded data removed]",
      "text/plain": [
       "<Figure size 640x480 with 1 Axes>"
      ]
     },
     "metadata": {},
     "output_type": "display_data"
    }
   ],
   "source": [
    "sns.barplot(data=df,x='Country',y='Population_2024')"
   ]
  },
  {
   "cell_type": "markdown",
   "id": "41cd1753",
   "metadata": {
    "papermill": {
     "duration": 0.014954,
     "end_time": "2024-08-23T18:10:01.870533",
     "exception": false,
     "start_time": "2024-08-23T18:10:01.855579",
     "status": "completed"
    },
    "tags": []
   },
   "source": [
    "# It’s clear that India and the UK are leading the world with the highest populations in 2024."
   ]
  },
  {
   "cell_type": "code",
   "execution_count": 13,
   "id": "c9b6e8a1",
   "metadata": {
    "execution": {
     "iopub.execute_input": "2024-08-23T18:10:01.904635Z",
     "iopub.status.busy": "2024-08-23T18:10:01.904005Z",
     "iopub.status.idle": "2024-08-23T18:10:01.917045Z",
     "shell.execute_reply": "2024-08-23T18:10:01.915516Z"
    },
    "papermill": {
     "duration": 0.034054,
     "end_time": "2024-08-23T18:10:01.920544",
     "exception": false,
     "start_time": "2024-08-23T18:10:01.886490",
     "status": "completed"
    },
    "tags": []
   },
   "outputs": [
    {
     "data": {
      "text/plain": [
       "array(['London'], dtype=object)"
      ]
     },
     "execution_count": 13,
     "metadata": {},
     "output_type": "execute_result"
    }
   ],
   "source": [
    "g=df[df['Country']==\"UK\"]\n",
    "g['City'].unique()"
   ]
  },
  {
   "cell_type": "markdown",
   "id": "f8695a77",
   "metadata": {
    "papermill": {
     "duration": 0.012833,
     "end_time": "2024-08-23T18:10:01.948059",
     "exception": false,
     "start_time": "2024-08-23T18:10:01.935226",
     "status": "completed"
    },
    "tags": []
   },
   "source": [
    "# Interestingly,  UK the dataset only features a single city.\n"
   ]
  },
  {
   "cell_type": "code",
   "execution_count": 14,
   "id": "232d66bc",
   "metadata": {
    "execution": {
     "iopub.execute_input": "2024-08-23T18:10:01.977419Z",
     "iopub.status.busy": "2024-08-23T18:10:01.976977Z",
     "iopub.status.idle": "2024-08-23T18:10:02.580039Z",
     "shell.execute_reply": "2024-08-23T18:10:02.578589Z"
    },
    "papermill": {
     "duration": 0.62202,
     "end_time": "2024-08-23T18:10:02.583228",
     "exception": false,
     "start_time": "2024-08-23T18:10:01.961208",
     "status": "completed"
    },
    "tags": []
   },
   "outputs": [
    {
     "data": {
      "text/plain": [
       "<Axes: xlabel='City', ylabel='Population_2024'>"
      ]
     },
     "execution_count": 14,
     "metadata": {},
     "output_type": "execute_result"
    },
    {
     "data": {
      "image/png": "[encoded data removed]",
      "text/plain": [
       "<Figure size 1600x900 with 1 Axes>"
      ]
     },
     "metadata": {},
     "output_type": "display_data"
    }
   ],
   "source": [
    "plt.figure(figsize=(16,9))\n",
    "sns.barplot(data=df,x='City',y='Population_2024')"
   ]
  },
  {
   "cell_type": "code",
   "execution_count": 15,
   "id": "2ed37e27",
   "metadata": {
    "execution": {
     "iopub.execute_input": "2024-08-23T18:10:02.618128Z",
     "iopub.status.busy": "2024-08-23T18:10:02.617640Z",
     "iopub.status.idle": "2024-08-23T18:10:03.229896Z",
     "shell.execute_reply": "2024-08-23T18:10:03.228536Z"
    },
    "papermill": {
     "duration": 0.631986,
     "end_time": "2024-08-23T18:10:03.232396",
     "exception": false,
     "start_time": "2024-08-23T18:10:02.600410",
     "status": "completed"
    },
    "tags": []
   },
   "outputs": [
    {
     "data": {
      "text/plain": [
       "<Axes: xlabel='City', ylabel='Population_2023'>"
      ]
     },
     "execution_count": 15,
     "metadata": {},
     "output_type": "execute_result"
    },
    {
     "data": {
      "image/png": "[encoded data removed]",
      "text/plain": [
       "<Figure size 1600x900 with 1 Axes>"
      ]
     },
     "metadata": {},
     "output_type": "display_data"
    }
   ],
   "source": [
    "plt.figure(figsize=(16,9))\n",
    "sns.barplot(data=df,x='City',y='Population_2023')"
   ]
  },
  {
   "cell_type": "markdown",
   "id": "4e794208",
   "metadata": {
    "papermill": {
     "duration": 0.013976,
     "end_time": "2024-08-23T18:10:03.260734",
     "exception": false,
     "start_time": "2024-08-23T18:10:03.246758",
     "status": "completed"
    },
    "tags": []
   },
   "source": [
    " # Los Angeles, Mumbai and London emerge as the most popular cities in his year in 2024 and 2023 \n"
   ]
  },
  {
   "cell_type": "code",
   "execution_count": 16,
   "id": "0507b129",
   "metadata": {
    "execution": {
     "iopub.execute_input": "2024-08-23T18:10:03.290885Z",
     "iopub.status.busy": "2024-08-23T18:10:03.290411Z",
     "iopub.status.idle": "2024-08-23T18:10:03.857618Z",
     "shell.execute_reply": "2024-08-23T18:10:03.856391Z"
    },
    "papermill": {
     "duration": 0.585524,
     "end_time": "2024-08-23T18:10:03.860415",
     "exception": false,
     "start_time": "2024-08-23T18:10:03.274891",
     "status": "completed"
    },
    "tags": []
   },
   "outputs": [
    {
     "data": {
      "text/plain": [
       "<Axes: xlabel='City', ylabel='Growth_Rate (%)'>"
      ]
     },
     "execution_count": 16,
     "metadata": {},
     "output_type": "execute_result"
    },
    {
     "data": {
      "image/png": "[encoded data removed]",
      "text/plain": [
       "<Figure size 1600x900 with 1 Axes>"
      ]
     },
     "metadata": {},
     "output_type": "display_data"
    }
   ],
   "source": [
    "plt.figure(figsize=(16,9))\n",
    "sns.barplot(data=df,x='City',y='Growth_Rate (%)')\n"
   ]
  },
  {
   "cell_type": "markdown",
   "id": "13d7b7e0",
   "metadata": {
    "papermill": {
     "duration": 0.014454,
     "end_time": "2024-08-23T18:10:03.890458",
     "exception": false,
     "start_time": "2024-08-23T18:10:03.876004",
     "status": "completed"
    },
    "tags": []
   },
   "source": [
    "# Shanghai and New York are in a neck-and-neck race, not in fashion or finance, but in population growth! "
   ]
  },
  {
   "cell_type": "markdown",
   "id": "e4c88cf1",
   "metadata": {
    "papermill": {
     "duration": 0.015041,
     "end_time": "2024-08-23T18:10:03.922138",
     "exception": false,
     "start_time": "2024-08-23T18:10:03.907097",
     "status": "completed"
    },
    "tags": []
   },
   "source": [
    "# <p style=\"width: 800px; border-radius: 12px; border: 3px dashed #ffe81c; padding: 20px; background-color: #058BDD; text-align: center; box-shadow: 0px 6px 12px rgba(0, 0, 0, 0.3); color: #F0FF00; text-shadow: 1px 1px 2px rgba(0, 0, 0, 0.3); font-weight: bold; margin-bottom: 15px; font-size: 30px;\">heatmap</p>"
   ]
  },
  {
   "cell_type": "code",
   "execution_count": 17,
   "id": "6a34d4cc",
   "metadata": {
    "execution": {
     "iopub.execute_input": "2024-08-23T18:10:03.954766Z",
     "iopub.status.busy": "2024-08-23T18:10:03.954185Z",
     "iopub.status.idle": "2024-08-23T18:10:04.243978Z",
     "shell.execute_reply": "2024-08-23T18:10:04.242540Z"
    },
    "papermill": {
     "duration": 0.309244,
     "end_time": "2024-08-23T18:10:04.246886",
     "exception": false,
     "start_time": "2024-08-23T18:10:03.937642",
     "status": "completed"
    },
    "tags": []
   },
   "outputs": [
    {
     "data": {
      "text/plain": [
       "<Axes: >"
      ]
     },
     "execution_count": 17,
     "metadata": {},
     "output_type": "execute_result"
    },
    {
     "data": {
      "image/png": "[encoded data removed]",
      "text/plain": [
       "<Figure size 640x480 with 2 Axes>"
      ]
     },
     "metadata": {},
     "output_type": "display_data"
    }
   ],
   "source": [
    "h=df.drop(['City','Country'],axis=1)\n",
    "sns.heatmap(h.corr())"
   ]
  },
  {
   "cell_type": "markdown",
   "id": "0d861ea2",
   "metadata": {
    "papermill": {
     "duration": 0.015879,
     "end_time": "2024-08-23T18:10:04.278808",
     "exception": false,
     "start_time": "2024-08-23T18:10:04.262929",
     "status": "completed"
    },
    "tags": []
   },
   "source": [
    "# <p style=\"width: 800px; border-radius: 12px; border: 3px dashed #ffe81c; padding: 20px; background-color: #058BDD; text-align: center; box-shadow: 0px 6px 12px rgba(0, 0, 0, 0.3); color: #F0FF00; text-shadow: 1px 1px 2px rgba(0, 0, 0, 0.3); font-weight: bold; margin-bottom: 15px; font-size: 30px;\"> One- Hot Encoding</p>"
   ]
  },
  {
   "cell_type": "code",
   "execution_count": 18,
   "id": "178c89b8",
   "metadata": {
    "execution": {
     "iopub.execute_input": "2024-08-23T18:10:04.315070Z",
     "iopub.status.busy": "2024-08-23T18:10:04.313545Z",
     "iopub.status.idle": "2024-08-23T18:10:04.344966Z",
     "shell.execute_reply": "2024-08-23T18:10:04.343476Z"
    },
    "papermill": {
     "duration": 0.054174,
     "end_time": "2024-08-23T18:10:04.349117",
     "exception": false,
     "start_time": "2024-08-23T18:10:04.294943",
     "status": "completed"
    },
    "tags": []
   },
   "outputs": [
    {
     "data": {
      "text/html": [
       "<div>\n",
       "<style scoped>\n",
       "    .dataframe tbody tr th:only-of-type {\n",
       "        vertical-align: middle;\n",
       "    }\n",
       "\n",
       "    .dataframe tbody tr th {\n",
       "        vertical-align: top;\n",
       "    }\n",
       "\n",
       "    .dataframe thead th {\n",
       "        text-align: right;\n",
       "    }\n",
       "</style>\n",
       "<table border=\"1\" class=\"dataframe\">\n",
       "  <thead>\n",
       "    <tr style=\"text-align: right;\">\n",
       "      <th></th>\n",
       "      <th>Population_2023</th>\n",
       "      <th>Growth_Rate (%)</th>\n",
       "      <th>Population_2024</th>\n",
       "      <th>City_London</th>\n",
       "      <th>City_Los Angeles</th>\n",
       "      <th>City_Moscow</th>\n",
       "      <th>City_Mumbai</th>\n",
       "      <th>City_New York</th>\n",
       "      <th>City_Sao Paulo</th>\n",
       "      <th>City_Shanghai</th>\n",
       "      <th>City_Sydney</th>\n",
       "      <th>City_Tokyo</th>\n",
       "      <th>Country_Brazil</th>\n",
       "      <th>Country_China</th>\n",
       "      <th>Country_Egypt</th>\n",
       "      <th>Country_India</th>\n",
       "      <th>Country_Japan</th>\n",
       "      <th>Country_Russia</th>\n",
       "      <th>Country_UK</th>\n",
       "      <th>Country_USA</th>\n",
       "    </tr>\n",
       "  </thead>\n",
       "  <tbody>\n",
       "    <tr>\n",
       "      <th>0</th>\n",
       "      <td>26836512</td>\n",
       "      <td>1.308574</td>\n",
       "      <td>27187687</td>\n",
       "      <td>False</td>\n",
       "      <td>True</td>\n",
       "      <td>False</td>\n",
       "      <td>False</td>\n",
       "      <td>False</td>\n",
       "      <td>False</td>\n",
       "      <td>False</td>\n",
       "      <td>False</td>\n",
       "      <td>False</td>\n",
       "      <td>False</td>\n",
       "      <td>False</td>\n",
       "      <td>False</td>\n",
       "      <td>False</td>\n",
       "      <td>False</td>\n",
       "      <td>False</td>\n",
       "      <td>False</td>\n",
       "      <td>True</td>\n",
       "    </tr>\n",
       "    <tr>\n",
       "      <th>1</th>\n",
       "      <td>11673774</td>\n",
       "      <td>1.568945</td>\n",
       "      <td>11856929</td>\n",
       "      <td>False</td>\n",
       "      <td>False</td>\n",
       "      <td>False</td>\n",
       "      <td>False</td>\n",
       "      <td>False</td>\n",
       "      <td>False</td>\n",
       "      <td>True</td>\n",
       "      <td>False</td>\n",
       "      <td>False</td>\n",
       "      <td>False</td>\n",
       "      <td>True</td>\n",
       "      <td>False</td>\n",
       "      <td>False</td>\n",
       "      <td>False</td>\n",
       "      <td>False</td>\n",
       "      <td>False</td>\n",
       "      <td>False</td>\n",
       "    </tr>\n",
       "    <tr>\n",
       "      <th>2</th>\n",
       "      <td>22201723</td>\n",
       "      <td>4.871278</td>\n",
       "      <td>23283230</td>\n",
       "      <td>False</td>\n",
       "      <td>False</td>\n",
       "      <td>False</td>\n",
       "      <td>False</td>\n",
       "      <td>False</td>\n",
       "      <td>False</td>\n",
       "      <td>False</td>\n",
       "      <td>False</td>\n",
       "      <td>False</td>\n",
       "      <td>False</td>\n",
       "      <td>False</td>\n",
       "      <td>True</td>\n",
       "      <td>False</td>\n",
       "      <td>False</td>\n",
       "      <td>False</td>\n",
       "      <td>False</td>\n",
       "      <td>False</td>\n",
       "    </tr>\n",
       "    <tr>\n",
       "      <th>3</th>\n",
       "      <td>11440139</td>\n",
       "      <td>1.314396</td>\n",
       "      <td>11590507</td>\n",
       "      <td>False</td>\n",
       "      <td>False</td>\n",
       "      <td>False</td>\n",
       "      <td>True</td>\n",
       "      <td>False</td>\n",
       "      <td>False</td>\n",
       "      <td>False</td>\n",
       "      <td>False</td>\n",
       "      <td>False</td>\n",
       "      <td>False</td>\n",
       "      <td>False</td>\n",
       "      <td>False</td>\n",
       "      <td>True</td>\n",
       "      <td>False</td>\n",
       "      <td>False</td>\n",
       "      <td>False</td>\n",
       "      <td>False</td>\n",
       "    </tr>\n",
       "    <tr>\n",
       "      <th>4</th>\n",
       "      <td>3792427</td>\n",
       "      <td>4.344733</td>\n",
       "      <td>3957197</td>\n",
       "      <td>False</td>\n",
       "      <td>True</td>\n",
       "      <td>False</td>\n",
       "      <td>False</td>\n",
       "      <td>False</td>\n",
       "      <td>False</td>\n",
       "      <td>False</td>\n",
       "      <td>False</td>\n",
       "      <td>False</td>\n",
       "      <td>False</td>\n",
       "      <td>False</td>\n",
       "      <td>False</td>\n",
       "      <td>False</td>\n",
       "      <td>False</td>\n",
       "      <td>False</td>\n",
       "      <td>False</td>\n",
       "      <td>True</td>\n",
       "    </tr>\n",
       "    <tr>\n",
       "      <th>...</th>\n",
       "      <td>...</td>\n",
       "      <td>...</td>\n",
       "      <td>...</td>\n",
       "      <td>...</td>\n",
       "      <td>...</td>\n",
       "      <td>...</td>\n",
       "      <td>...</td>\n",
       "      <td>...</td>\n",
       "      <td>...</td>\n",
       "      <td>...</td>\n",
       "      <td>...</td>\n",
       "      <td>...</td>\n",
       "      <td>...</td>\n",
       "      <td>...</td>\n",
       "      <td>...</td>\n",
       "      <td>...</td>\n",
       "      <td>...</td>\n",
       "      <td>...</td>\n",
       "      <td>...</td>\n",
       "      <td>...</td>\n",
       "    </tr>\n",
       "    <tr>\n",
       "      <th>995</th>\n",
       "      <td>29207970</td>\n",
       "      <td>2.687002</td>\n",
       "      <td>29992788</td>\n",
       "      <td>False</td>\n",
       "      <td>False</td>\n",
       "      <td>False</td>\n",
       "      <td>False</td>\n",
       "      <td>False</td>\n",
       "      <td>False</td>\n",
       "      <td>False</td>\n",
       "      <td>True</td>\n",
       "      <td>False</td>\n",
       "      <td>False</td>\n",
       "      <td>False</td>\n",
       "      <td>False</td>\n",
       "      <td>False</td>\n",
       "      <td>False</td>\n",
       "      <td>False</td>\n",
       "      <td>False</td>\n",
       "      <td>False</td>\n",
       "    </tr>\n",
       "    <tr>\n",
       "      <th>996</th>\n",
       "      <td>12006745</td>\n",
       "      <td>3.097399</td>\n",
       "      <td>12378641</td>\n",
       "      <td>False</td>\n",
       "      <td>False</td>\n",
       "      <td>False</td>\n",
       "      <td>False</td>\n",
       "      <td>False</td>\n",
       "      <td>False</td>\n",
       "      <td>False</td>\n",
       "      <td>True</td>\n",
       "      <td>False</td>\n",
       "      <td>False</td>\n",
       "      <td>False</td>\n",
       "      <td>False</td>\n",
       "      <td>False</td>\n",
       "      <td>False</td>\n",
       "      <td>False</td>\n",
       "      <td>False</td>\n",
       "      <td>False</td>\n",
       "    </tr>\n",
       "    <tr>\n",
       "      <th>997</th>\n",
       "      <td>21991495</td>\n",
       "      <td>0.696826</td>\n",
       "      <td>22144737</td>\n",
       "      <td>False</td>\n",
       "      <td>False</td>\n",
       "      <td>False</td>\n",
       "      <td>False</td>\n",
       "      <td>False</td>\n",
       "      <td>False</td>\n",
       "      <td>False</td>\n",
       "      <td>False</td>\n",
       "      <td>False</td>\n",
       "      <td>False</td>\n",
       "      <td>False</td>\n",
       "      <td>True</td>\n",
       "      <td>False</td>\n",
       "      <td>False</td>\n",
       "      <td>False</td>\n",
       "      <td>False</td>\n",
       "      <td>False</td>\n",
       "    </tr>\n",
       "    <tr>\n",
       "      <th>998</th>\n",
       "      <td>12950831</td>\n",
       "      <td>1.053515</td>\n",
       "      <td>13087269</td>\n",
       "      <td>False</td>\n",
       "      <td>False</td>\n",
       "      <td>False</td>\n",
       "      <td>False</td>\n",
       "      <td>False</td>\n",
       "      <td>False</td>\n",
       "      <td>False</td>\n",
       "      <td>False</td>\n",
       "      <td>True</td>\n",
       "      <td>False</td>\n",
       "      <td>False</td>\n",
       "      <td>False</td>\n",
       "      <td>False</td>\n",
       "      <td>True</td>\n",
       "      <td>False</td>\n",
       "      <td>False</td>\n",
       "      <td>False</td>\n",
       "    </tr>\n",
       "    <tr>\n",
       "      <th>999</th>\n",
       "      <td>2257949</td>\n",
       "      <td>3.013891</td>\n",
       "      <td>2326001</td>\n",
       "      <td>False</td>\n",
       "      <td>False</td>\n",
       "      <td>True</td>\n",
       "      <td>False</td>\n",
       "      <td>False</td>\n",
       "      <td>False</td>\n",
       "      <td>False</td>\n",
       "      <td>False</td>\n",
       "      <td>False</td>\n",
       "      <td>False</td>\n",
       "      <td>False</td>\n",
       "      <td>False</td>\n",
       "      <td>False</td>\n",
       "      <td>False</td>\n",
       "      <td>True</td>\n",
       "      <td>False</td>\n",
       "      <td>False</td>\n",
       "    </tr>\n",
       "  </tbody>\n",
       "</table>\n",
       "<p>1000 rows × 20 columns</p>\n",
       "</div>"
      ],
      "text/plain": [
       "     Population_2023  Growth_Rate (%)  Population_2024  City_London  \\\n",
       "0           26836512         1.308574         27187687        False   \n",
       "1           11673774         1.568945         11856929        False   \n",
       "2           22201723         4.871278         23283230        False   \n",
       "3           11440139         1.314396         11590507        False   \n",
       "4            3792427         4.344733          3957197        False   \n",
       "..               ...              ...              ...          ...   \n",
       "995         29207970         2.687002         29992788        False   \n",
       "996         12006745         3.097399         12378641        False   \n",
       "997         21991495         0.696826         22144737        False   \n",
       "998         12950831         1.053515         13087269        False   \n",
       "999          2257949         3.013891          2326001        False   \n",
       "\n",
       "     City_Los Angeles  City_Moscow  City_Mumbai  City_New York  \\\n",
       "0                True        False        False          False   \n",
       "1               False        False        False          False   \n",
       "2               False        False        False          False   \n",
       "3               False        False         True          False   \n",
       "4                True        False        False          False   \n",
       "..                ...          ...          ...            ...   \n",
       "995             False        False        False          False   \n",
       "996             False        False        False          False   \n",
       "997             False        False        False          False   \n",
       "998             False        False        False          False   \n",
       "999             False         True        False          False   \n",
       "\n",
       "     City_Sao Paulo  City_Shanghai  City_Sydney  City_Tokyo  Country_Brazil  \\\n",
       "0             False          False        False       False           False   \n",
       "1             False           True        False       False           False   \n",
       "2             False          False        False       False           False   \n",
       "3             False          False        False       False           False   \n",
       "4             False          False        False       False           False   \n",
       "..              ...            ...          ...         ...             ...   \n",
       "995           False          False         True       False           False   \n",
       "996           False          False         True       False           False   \n",
       "997           False          False        False       False           False   \n",
       "998           False          False        False        True           False   \n",
       "999           False          False        False       False           False   \n",
       "\n",
       "     Country_China  Country_Egypt  Country_India  Country_Japan  \\\n",
       "0            False          False          False          False   \n",
       "1             True          False          False          False   \n",
       "2            False           True          False          False   \n",
       "3            False          False           True          False   \n",
       "4            False          False          False          False   \n",
       "..             ...            ...            ...            ...   \n",
       "995          False          False          False          False   \n",
       "996          False          False          False          False   \n",
       "997          False           True          False          False   \n",
       "998          False          False          False           True   \n",
       "999          False          False          False          False   \n",
       "\n",
       "     Country_Russia  Country_UK  Country_USA  \n",
       "0             False       False         True  \n",
       "1             False       False        False  \n",
       "2             False       False        False  \n",
       "3             False       False        False  \n",
       "4             False       False         True  \n",
       "..              ...         ...          ...  \n",
       "995           False       False        False  \n",
       "996           False       False        False  \n",
       "997           False       False        False  \n",
       "998           False       False        False  \n",
       "999            True       False        False  \n",
       "\n",
       "[1000 rows x 20 columns]"
      ]
     },
     "execution_count": 18,
     "metadata": {},
     "output_type": "execute_result"
    }
   ],
   "source": [
    "x=pd.get_dummies(df,drop_first=True)\n",
    "x"
   ]
  },
  {
   "cell_type": "markdown",
   "id": "5ab828b0",
   "metadata": {
    "papermill": {
     "duration": 0.015789,
     "end_time": "2024-08-23T18:10:04.382609",
     "exception": false,
     "start_time": "2024-08-23T18:10:04.366820",
     "status": "completed"
    },
    "tags": []
   },
   "source": [
    "# <p style=\"width: 800px; border-radius: 12px; border: 3px dashed #ffe81c; padding: 20px; background-color: #058BDD; text-align: center; box-shadow: 0px 6px 12px rgba(0, 0, 0, 0.3); color: #F0FF00; text-shadow: 1px 1px 2px rgba(0, 0, 0, 0.3); font-weight: bold; margin-bottom: 15px; font-size: 30px;\"> Scaler in data</p>"
   ]
  },
  {
   "cell_type": "code",
   "execution_count": 19,
   "id": "550d9a50",
   "metadata": {
    "execution": {
     "iopub.execute_input": "2024-08-23T18:10:04.417167Z",
     "iopub.status.busy": "2024-08-23T18:10:04.416758Z",
     "iopub.status.idle": "2024-08-23T18:10:04.602238Z",
     "shell.execute_reply": "2024-08-23T18:10:04.601124Z"
    },
    "papermill": {
     "duration": 0.206331,
     "end_time": "2024-08-23T18:10:04.605318",
     "exception": false,
     "start_time": "2024-08-23T18:10:04.398987",
     "status": "completed"
    },
    "tags": []
   },
   "outputs": [],
   "source": [
    "from sklearn.preprocessing import StandardScaler"
   ]
  },
  {
   "cell_type": "code",
   "execution_count": 20,
   "id": "d6e0dfdc",
   "metadata": {
    "execution": {
     "iopub.execute_input": "2024-08-23T18:10:04.696414Z",
     "iopub.status.busy": "2024-08-23T18:10:04.695959Z",
     "iopub.status.idle": "2024-08-23T18:10:04.711523Z",
     "shell.execute_reply": "2024-08-23T18:10:04.710114Z"
    },
    "papermill": {
     "duration": 0.09237,
     "end_time": "2024-08-23T18:10:04.714107",
     "exception": false,
     "start_time": "2024-08-23T18:10:04.621737",
     "status": "completed"
    },
    "tags": []
   },
   "outputs": [
    {
     "data": {
      "text/plain": [
       "array([[ 1.37804556, -1.103499  ,  1.33221956, ..., -0.31640166,\n",
       "        -0.35156152,  1.92794739],\n",
       "       [-0.47449682, -0.90261178, -0.4904483 , ..., -0.31640166,\n",
       "        -0.35156152, -0.51868635],\n",
       "       [ 0.81177956,  1.64527783,  0.86802018, ..., -0.31640166,\n",
       "        -0.35156152, -0.51868635],\n",
       "       ...,\n",
       "       [ 0.78609447, -1.5754886 ,  0.73266519, ..., -0.31640166,\n",
       "        -0.35156152, -0.51868635],\n",
       "       [-0.31846944, -1.30028794, -0.34417366, ..., -0.31640166,\n",
       "        -0.35156152, -0.51868635],\n",
       "       [-1.62489689,  0.21222506, -1.62357663, ...,  3.16053967,\n",
       "        -0.35156152, -0.51868635]])"
      ]
     },
     "execution_count": 20,
     "metadata": {},
     "output_type": "execute_result"
    }
   ],
   "source": [
    "scaler =StandardScaler()\n",
    "x_scaler=scaler.fit_transform(x)\n",
    "x_scaler"
   ]
  },
  {
   "cell_type": "markdown",
   "id": "9532c073",
   "metadata": {
    "papermill": {
     "duration": 0.016521,
     "end_time": "2024-08-23T18:10:04.748634",
     "exception": false,
     "start_time": "2024-08-23T18:10:04.732113",
     "status": "completed"
    },
    "tags": []
   },
   "source": [
    "# <p style=\"width: 800px; border-radius: 12px; border: 3px dashed #ffe81c; padding: 20px; background-color: #058BDD; text-align: center; box-shadow: 0px 6px 12px rgba(0, 0, 0, 0.3); color: #F0FF00; text-shadow: 1px 1px 2px rgba(0, 0, 0, 0.3); font-weight: bold; margin-bottom: 15px; font-size: 30px;\">  build model Unsupervised </p>"
   ]
  },
  {
   "cell_type": "code",
   "execution_count": 21,
   "id": "92ea33f5",
   "metadata": {
    "execution": {
     "iopub.execute_input": "2024-08-23T18:10:04.786521Z",
     "iopub.status.busy": "2024-08-23T18:10:04.785624Z",
     "iopub.status.idle": "2024-08-23T18:10:05.359521Z",
     "shell.execute_reply": "2024-08-23T18:10:05.358223Z"
    },
    "papermill": {
     "duration": 0.594865,
     "end_time": "2024-08-23T18:10:05.362200",
     "exception": false,
     "start_time": "2024-08-23T18:10:04.767335",
     "status": "completed"
    },
    "tags": []
   },
   "outputs": [],
   "source": [
    "from sklearn.cluster import KMeans "
   ]
  },
  {
   "cell_type": "markdown",
   "id": "98602aa4",
   "metadata": {
    "papermill": {
     "duration": 0.015999,
     "end_time": "2024-08-23T18:10:05.395386",
     "exception": false,
     "start_time": "2024-08-23T18:10:05.379387",
     "status": "completed"
    },
    "tags": []
   },
   "source": [
    "# When choosing the perfect number of clusters, don't just guess—give the elbow method a flex! It’s like finding that sweet spot where your data stops stretching and starts making sense. Just look for the bend in the graph, and you'll know you've hit the \"k\" jackpot!\n"
   ]
  },
  {
   "cell_type": "code",
   "execution_count": 22,
   "id": "f46a0bec",
   "metadata": {
    "execution": {
     "iopub.execute_input": "2024-08-23T18:10:05.430146Z",
     "iopub.status.busy": "2024-08-23T18:10:05.429712Z",
     "iopub.status.idle": "2024-08-23T18:10:30.817760Z",
     "shell.execute_reply": "2024-08-23T18:10:30.816757Z"
    },
    "papermill": {
     "duration": 25.408374,
     "end_time": "2024-08-23T18:10:30.820461",
     "exception": false,
     "start_time": "2024-08-23T18:10:05.412087",
     "status": "completed"
    },
    "tags": []
   },
   "outputs": [],
   "source": [
    "error=[]\n",
    "for  i in range(1,30):\n",
    "        model =KMeans(n_clusters=i,n_init=10,random_state=42)\n",
    "        model.fit(x_scaler)\n",
    "        model\n",
    "        error.append(model.inertia_)"
   ]
  },
  {
   "cell_type": "code",
   "execution_count": 23,
   "id": "5cf10a15",
   "metadata": {
    "execution": {
     "iopub.execute_input": "2024-08-23T18:10:30.854999Z",
     "iopub.status.busy": "2024-08-23T18:10:30.854550Z",
     "iopub.status.idle": "2024-08-23T18:10:31.125474Z",
     "shell.execute_reply": "2024-08-23T18:10:31.124022Z"
    },
    "papermill": {
     "duration": 0.291482,
     "end_time": "2024-08-23T18:10:31.128449",
     "exception": false,
     "start_time": "2024-08-23T18:10:30.836967",
     "status": "completed"
    },
    "tags": []
   },
   "outputs": [
    {
     "data": {
      "text/plain": [
       "[<matplotlib.lines.Line2D at 0x7b932d7501c0>]"
      ]
     },
     "execution_count": 23,
     "metadata": {},
     "output_type": "execute_result"
    },
    {
     "data": {
      "image/png": "[encoded data removed]",
      "text/plain": [
       "<Figure size 640x480 with 1 Axes>"
      ]
     },
     "metadata": {},
     "output_type": "display_data"
    }
   ],
   "source": [
    "plt.plot(range(1,30),error,'--o')"
   ]
  },
  {
   "cell_type": "markdown",
   "id": "b46eb359",
   "metadata": {
    "papermill": {
     "duration": 0.016253,
     "end_time": "2024-08-23T18:10:31.161593",
     "exception": false,
     "start_time": "2024-08-23T18:10:31.145340",
     "status": "completed"
    },
    "tags": []
   },
   "source": [
    "# <p style=\"width: 800px; border-radius: 12px; border: 3px dashed #ffe81c; padding: 20px; background-color: #058BDD; text-align: center; box-shadow: 0px 6px 12px rgba(0, 0, 0, 0.3); color: #F0FF00; text-shadow: 1px 1px 2px rgba(0, 0, 0, 0.3); font-weight: bold; margin-bottom: 15px; font-size: 30px;\">   The optimal number of clusters (K) is 7, but I still find myself confused by 4.\n",
    " </p>"
   ]
  },
  {
   "cell_type": "code",
   "execution_count": 24,
   "id": "ce3dd863",
   "metadata": {
    "execution": {
     "iopub.execute_input": "2024-08-23T18:10:31.197801Z",
     "iopub.status.busy": "2024-08-23T18:10:31.196593Z",
     "iopub.status.idle": "2024-08-23T18:10:32.505436Z",
     "shell.execute_reply": "2024-08-23T18:10:32.504136Z"
    },
    "papermill": {
     "duration": 1.330008,
     "end_time": "2024-08-23T18:10:32.508417",
     "exception": false,
     "start_time": "2024-08-23T18:10:31.178409",
     "status": "completed"
    },
    "tags": []
   },
   "outputs": [
    {
     "data": {
      "text/plain": [
       "array([1, 0, 3, 0, 2, 0, 3, 2, 2, 2, 3, 0, 3, 1, 1, 1, 1, 0, 0, 0, 3, 3,\n",
       "       3, 3, 1, 1, 3, 2, 2, 2, 0, 1, 2, 3, 0, 0, 2, 1, 1, 2, 3, 2, 0, 0,\n",
       "       1, 1, 3, 0, 1, 3, 2, 1, 3, 1, 2, 0, 3, 0, 3, 0, 3, 2, 1, 2, 1, 2,\n",
       "       1, 3, 1, 2, 3, 0, 2, 0, 0, 3, 2, 1, 2, 1, 2, 1, 2, 0, 2, 2, 3, 3,\n",
       "       3, 0, 0, 2, 1, 3, 1, 3, 0, 1, 0, 0, 1, 0, 0, 2, 0, 2, 0, 3, 0, 0,\n",
       "       2, 3, 2, 0, 0, 3, 0, 3, 3, 2, 0, 1, 0, 1, 2, 0, 1, 1, 1, 0, 0, 0,\n",
       "       3, 0, 0, 3, 3, 0, 2, 3, 3, 0, 3, 3, 2, 2, 1, 3, 2, 0, 0, 0, 1, 3,\n",
       "       3, 0, 3, 0, 1, 2, 2, 3, 3, 2, 3, 0, 0, 2, 1, 3, 2, 0, 2, 3, 3, 1,\n",
       "       2, 1, 2, 2, 3, 3, 0, 1, 0, 2, 3, 0, 2, 0, 3, 3, 1, 2, 3, 3, 3, 3,\n",
       "       0, 0, 0, 2, 0, 2, 1, 0, 1, 2, 1, 2, 0, 1, 1, 1, 3, 2, 0, 0, 2, 3,\n",
       "       0, 0, 0, 0, 2, 3, 0, 0, 3, 2, 3, 2, 1, 3, 2, 0, 0, 3, 1, 3, 0, 0,\n",
       "       2, 1, 2, 0, 1, 1, 2, 3, 0, 1, 2, 2, 0, 3, 0, 3, 1, 2, 2, 1, 1, 3,\n",
       "       2, 2, 2, 0, 3, 0, 2, 0, 3, 1, 2, 1, 0, 2, 2, 0, 0, 1, 3, 3, 3, 3,\n",
       "       2, 1, 0, 1, 1, 2, 3, 2, 2, 0, 2, 2, 3, 3, 1, 2, 0, 1, 3, 3, 2, 3,\n",
       "       1, 2, 1, 3, 0, 3, 0, 0, 1, 1, 1, 1, 1, 3, 2, 3, 2, 1, 0, 0, 2, 3,\n",
       "       1, 1, 3, 1, 1, 0, 0, 1, 1, 3, 2, 2, 0, 1, 0, 0, 2, 3, 2, 3, 0, 2,\n",
       "       1, 1, 2, 0, 3, 1, 2, 1, 1, 0, 2, 0, 1, 3, 3, 1, 3, 3, 3, 1, 0, 1,\n",
       "       0, 3, 1, 1, 2, 3, 0, 0, 0, 2, 2, 1, 3, 2, 2, 0, 0, 0, 3, 2, 3, 0,\n",
       "       1, 0, 1, 1, 0, 0, 2, 2, 0, 1, 2, 3, 1, 2, 0, 1, 0, 1, 0, 3, 1, 0,\n",
       "       2, 3, 3, 1, 1, 0, 0, 0, 2, 2, 1, 1, 0, 2, 3, 0, 3, 1, 2, 1, 0, 2,\n",
       "       2, 0, 1, 1, 2, 1, 1, 2, 2, 0, 0, 1, 2, 1, 2, 0, 3, 1, 0, 0, 0, 0,\n",
       "       1, 1, 0, 1, 3, 2, 0, 1, 3, 0, 2, 1, 0, 2, 1, 2, 3, 0, 0, 3, 0, 3,\n",
       "       0, 1, 1, 2, 2, 2, 0, 3, 2, 1, 2, 3, 0, 3, 1, 3, 2, 1, 1, 3, 3, 0,\n",
       "       2, 0, 1, 0, 1, 0, 2, 3, 1, 0, 3, 0, 3, 2, 3, 2, 2, 1, 1, 3, 1, 1,\n",
       "       1, 3, 0, 3, 2, 1, 2, 0, 1, 3, 0, 2, 0, 0, 1, 2, 2, 3, 1, 0, 0, 1,\n",
       "       1, 3, 1, 1, 3, 3, 0, 2, 1, 3, 0, 2, 3, 2, 1, 1, 0, 2, 0, 3, 3, 2,\n",
       "       0, 3, 2, 2, 2, 0, 0, 1, 3, 0, 2, 3, 0, 3, 2, 0, 2, 2, 2, 3, 3, 1,\n",
       "       0, 2, 3, 2, 1, 2, 3, 2, 3, 1, 1, 3, 0, 1, 2, 3, 1, 2, 2, 0, 0, 2,\n",
       "       2, 3, 1, 1, 2, 3, 0, 2, 2, 3, 2, 3, 0, 2, 0, 1, 1, 2, 3, 3, 1, 3,\n",
       "       1, 1, 3, 0, 2, 0, 3, 2, 1, 2, 3, 1, 2, 1, 1, 1, 1, 1, 3, 1, 1, 0,\n",
       "       2, 2, 2, 2, 1, 1, 0, 1, 0, 0, 0, 0, 0, 0, 3, 1, 2, 0, 3, 2, 0, 2,\n",
       "       1, 1, 0, 3, 0, 3, 1, 3, 1, 3, 3, 0, 0, 3, 3, 1, 2, 3, 1, 3, 3, 2,\n",
       "       2, 1, 2, 2, 2, 2, 0, 1, 2, 0, 3, 3, 1, 3, 0, 3, 2, 2, 0, 2, 3, 3,\n",
       "       2, 1, 0, 3, 1, 1, 1, 2, 0, 3, 3, 2, 3, 1, 1, 2, 1, 0, 0, 2, 0, 3,\n",
       "       1, 0, 1, 1, 1, 3, 0, 2, 3, 0, 2, 0, 1, 0, 3, 0, 3, 2, 0, 3, 2, 2,\n",
       "       3, 0, 3, 3, 0, 1, 2, 2, 1, 0, 1, 1, 2, 2, 0, 0, 2, 1, 3, 2, 1, 1,\n",
       "       1, 2, 3, 2, 2, 3, 2, 1, 1, 1, 2, 3, 1, 3, 2, 0, 3, 1, 0, 3, 2, 3,\n",
       "       1, 0, 2, 3, 3, 0, 2, 0, 3, 0, 1, 1, 0, 0, 2, 2, 1, 2, 2, 1, 3, 0,\n",
       "       1, 2, 0, 2, 0, 0, 1, 1, 2, 0, 3, 0, 0, 3, 1, 0, 0, 0, 0, 3, 0, 3,\n",
       "       2, 1, 1, 0, 2, 3, 1, 0, 1, 3, 2, 3, 0, 0, 1, 0, 1, 3, 0, 1, 2, 2,\n",
       "       1, 3, 3, 0, 0, 1, 1, 3, 0, 0, 2, 3, 0, 3, 0, 0, 2, 0, 3, 3, 1, 2,\n",
       "       3, 3, 0, 3, 0, 2, 0, 3, 2, 0, 1, 1, 3, 0, 0, 0, 3, 1, 2, 2, 2, 2,\n",
       "       0, 0, 3, 2, 3, 0, 3, 1, 1, 2, 1, 2, 3, 0, 3, 3, 0, 1, 2, 0, 0, 3,\n",
       "       3, 2, 0, 0, 3, 2, 3, 2, 0, 2, 2, 0, 2, 0, 3, 3, 0, 2, 3, 0, 0, 3,\n",
       "       2, 3, 1, 2, 0, 2, 1, 1, 3, 0, 3, 1, 3, 0, 3, 1, 0, 1, 0, 1, 2, 1,\n",
       "       3, 1, 2, 1, 2, 1, 0, 3, 0, 2], dtype=int32)"
      ]
     },
     "execution_count": 24,
     "metadata": {},
     "output_type": "execute_result"
    }
   ],
   "source": [
    "model = KMeans(n_clusters=4,random_state=42,n_init=10)\n",
    "label=model.fit_predict(x)\n",
    "label"
   ]
  },
  {
   "cell_type": "code",
   "execution_count": 25,
   "id": "9871ad4c",
   "metadata": {
    "execution": {
     "iopub.execute_input": "2024-08-23T18:10:32.544499Z",
     "iopub.status.busy": "2024-08-23T18:10:32.544080Z",
     "iopub.status.idle": "2024-08-23T18:10:32.560331Z",
     "shell.execute_reply": "2024-08-23T18:10:32.559004Z"
    },
    "papermill": {
     "duration": 0.036983,
     "end_time": "2024-08-23T18:10:32.562881",
     "exception": false,
     "start_time": "2024-08-23T18:10:32.525898",
     "status": "completed"
    },
    "tags": []
   },
   "outputs": [
    {
     "data": {
      "text/html": [
       "<div>\n",
       "<style scoped>\n",
       "    .dataframe tbody tr th:only-of-type {\n",
       "        vertical-align: middle;\n",
       "    }\n",
       "\n",
       "    .dataframe tbody tr th {\n",
       "        vertical-align: top;\n",
       "    }\n",
       "\n",
       "    .dataframe thead th {\n",
       "        text-align: right;\n",
       "    }\n",
       "</style>\n",
       "<table border=\"1\" class=\"dataframe\">\n",
       "  <thead>\n",
       "    <tr style=\"text-align: right;\">\n",
       "      <th></th>\n",
       "      <th>City</th>\n",
       "      <th>Country</th>\n",
       "      <th>Population_2023</th>\n",
       "      <th>Growth_Rate (%)</th>\n",
       "      <th>Population_2024</th>\n",
       "      <th>Cluster</th>\n",
       "    </tr>\n",
       "  </thead>\n",
       "  <tbody>\n",
       "    <tr>\n",
       "      <th>0</th>\n",
       "      <td>Los Angeles</td>\n",
       "      <td>USA</td>\n",
       "      <td>26836512</td>\n",
       "      <td>1.308574</td>\n",
       "      <td>27187687</td>\n",
       "      <td>1</td>\n",
       "    </tr>\n",
       "    <tr>\n",
       "      <th>1</th>\n",
       "      <td>Shanghai</td>\n",
       "      <td>China</td>\n",
       "      <td>11673774</td>\n",
       "      <td>1.568945</td>\n",
       "      <td>11856929</td>\n",
       "      <td>0</td>\n",
       "    </tr>\n",
       "    <tr>\n",
       "      <th>2</th>\n",
       "      <td>Cairo</td>\n",
       "      <td>Egypt</td>\n",
       "      <td>22201723</td>\n",
       "      <td>4.871278</td>\n",
       "      <td>23283230</td>\n",
       "      <td>3</td>\n",
       "    </tr>\n",
       "    <tr>\n",
       "      <th>3</th>\n",
       "      <td>Mumbai</td>\n",
       "      <td>India</td>\n",
       "      <td>11440139</td>\n",
       "      <td>1.314396</td>\n",
       "      <td>11590507</td>\n",
       "      <td>0</td>\n",
       "    </tr>\n",
       "    <tr>\n",
       "      <th>4</th>\n",
       "      <td>Los Angeles</td>\n",
       "      <td>USA</td>\n",
       "      <td>3792427</td>\n",
       "      <td>4.344733</td>\n",
       "      <td>3957197</td>\n",
       "      <td>2</td>\n",
       "    </tr>\n",
       "    <tr>\n",
       "      <th>...</th>\n",
       "      <td>...</td>\n",
       "      <td>...</td>\n",
       "      <td>...</td>\n",
       "      <td>...</td>\n",
       "      <td>...</td>\n",
       "      <td>...</td>\n",
       "    </tr>\n",
       "    <tr>\n",
       "      <th>995</th>\n",
       "      <td>Sydney</td>\n",
       "      <td>Australia</td>\n",
       "      <td>29207970</td>\n",
       "      <td>2.687002</td>\n",
       "      <td>29992788</td>\n",
       "      <td>1</td>\n",
       "    </tr>\n",
       "    <tr>\n",
       "      <th>996</th>\n",
       "      <td>Sydney</td>\n",
       "      <td>Australia</td>\n",
       "      <td>12006745</td>\n",
       "      <td>3.097399</td>\n",
       "      <td>12378641</td>\n",
       "      <td>0</td>\n",
       "    </tr>\n",
       "    <tr>\n",
       "      <th>997</th>\n",
       "      <td>Cairo</td>\n",
       "      <td>Egypt</td>\n",
       "      <td>21991495</td>\n",
       "      <td>0.696826</td>\n",
       "      <td>22144737</td>\n",
       "      <td>3</td>\n",
       "    </tr>\n",
       "    <tr>\n",
       "      <th>998</th>\n",
       "      <td>Tokyo</td>\n",
       "      <td>Japan</td>\n",
       "      <td>12950831</td>\n",
       "      <td>1.053515</td>\n",
       "      <td>13087269</td>\n",
       "      <td>0</td>\n",
       "    </tr>\n",
       "    <tr>\n",
       "      <th>999</th>\n",
       "      <td>Moscow</td>\n",
       "      <td>Russia</td>\n",
       "      <td>2257949</td>\n",
       "      <td>3.013891</td>\n",
       "      <td>2326001</td>\n",
       "      <td>2</td>\n",
       "    </tr>\n",
       "  </tbody>\n",
       "</table>\n",
       "<p>1000 rows × 6 columns</p>\n",
       "</div>"
      ],
      "text/plain": [
       "            City    Country  Population_2023  Growth_Rate (%)  \\\n",
       "0    Los Angeles        USA         26836512         1.308574   \n",
       "1       Shanghai      China         11673774         1.568945   \n",
       "2          Cairo      Egypt         22201723         4.871278   \n",
       "3         Mumbai      India         11440139         1.314396   \n",
       "4    Los Angeles        USA          3792427         4.344733   \n",
       "..           ...        ...              ...              ...   \n",
       "995       Sydney  Australia         29207970         2.687002   \n",
       "996       Sydney  Australia         12006745         3.097399   \n",
       "997        Cairo      Egypt         21991495         0.696826   \n",
       "998        Tokyo      Japan         12950831         1.053515   \n",
       "999       Moscow     Russia          2257949         3.013891   \n",
       "\n",
       "     Population_2024  Cluster  \n",
       "0           27187687        1  \n",
       "1           11856929        0  \n",
       "2           23283230        3  \n",
       "3           11590507        0  \n",
       "4            3957197        2  \n",
       "..               ...      ...  \n",
       "995         29992788        1  \n",
       "996         12378641        0  \n",
       "997         22144737        3  \n",
       "998         13087269        0  \n",
       "999          2326001        2  \n",
       "\n",
       "[1000 rows x 6 columns]"
      ]
     },
     "execution_count": 25,
     "metadata": {},
     "output_type": "execute_result"
    }
   ],
   "source": [
    "df['Cluster']=label\n",
    "df"
   ]
  },
  {
   "cell_type": "code",
   "execution_count": 26,
   "id": "c77765de",
   "metadata": {
    "execution": {
     "iopub.execute_input": "2024-08-23T18:10:32.600612Z",
     "iopub.status.busy": "2024-08-23T18:10:32.600068Z",
     "iopub.status.idle": "2024-08-23T18:10:33.270849Z",
     "shell.execute_reply": "2024-08-23T18:10:33.269647Z"
    },
    "papermill": {
     "duration": 0.692671,
     "end_time": "2024-08-23T18:10:33.273495",
     "exception": false,
     "start_time": "2024-08-23T18:10:32.580824",
     "status": "completed"
    },
    "tags": []
   },
   "outputs": [],
   "source": [
    "import plotly.express as px"
   ]
  },
  {
   "cell_type": "code",
   "execution_count": 27,
   "id": "8035fb55",
   "metadata": {
    "execution": {
     "iopub.execute_input": "2024-08-23T18:10:33.310531Z",
     "iopub.status.busy": "2024-08-23T18:10:33.309859Z",
     "iopub.status.idle": "2024-08-23T18:10:33.345194Z",
     "shell.execute_reply": "2024-08-23T18:10:33.344008Z"
    },
    "papermill": {
     "duration": 0.057632,
     "end_time": "2024-08-23T18:10:33.348352",
     "exception": false,
     "start_time": "2024-08-23T18:10:33.290720",
     "status": "completed"
    },
    "tags": []
   },
   "outputs": [],
   "source": [
    "iso = pd.read_csv('/kaggle/input/country-iso-codes/195 country_iso_codes.csv')\n",
    "j = {o['Country']: o['ISO Code'] for i, o in iso.iterrows()}\n",
    "df['ISO Code'] = df['Country'].map(j)\n"
   ]
  },
  {
   "cell_type": "code",
   "execution_count": 28,
   "id": "9f8fa8a1",
   "metadata": {
    "execution": {
     "iopub.execute_input": "2024-08-23T18:10:33.384818Z",
     "iopub.status.busy": "2024-08-23T18:10:33.384333Z",
     "iopub.status.idle": "2024-08-23T18:10:35.561738Z",
     "shell.execute_reply": "2024-08-23T18:10:35.560482Z"
    },
    "papermill": {
     "duration": 2.198881,
     "end_time": "2024-08-23T18:10:35.564782",
     "exception": false,
     "start_time": "2024-08-23T18:10:33.365901",
     "status": "completed"
    },
    "tags": []
   },
   "outputs": [],
   "source": [
    "fig = px.choropleth(\n",
    "    df,\n",
    "    locations='ISO Code',\n",
    "    color='Cluster',\n",
    "    hover_name='Country',\n",
    "    hover_data=['City'] \n",
    ")"
   ]
  },
  {
   "cell_type": "code",
   "execution_count": 29,
   "id": "95768c04",
   "metadata": {
    "execution": {
     "iopub.execute_input": "2024-08-23T18:10:35.602244Z",
     "iopub.status.busy": "2024-08-23T18:10:35.601438Z",
     "iopub.status.idle": "2024-08-23T18:10:35.808313Z",
     "shell.execute_reply": "2024-08-23T18:10:35.807081Z"
    },
    "papermill": {
     "duration": 0.228892,
     "end_time": "2024-08-23T18:10:35.811257",
     "exception": false,
     "start_time": "2024-08-23T18:10:35.582365",
     "status": "completed"
    },
    "tags": []
   },
   "outputs": [
    {
     "data": {
      "text/html": [
       "        <script type=\"text/javascript\">\n",
       "        window.PlotlyConfig = {MathJaxConfig: 'local'};\n",
       "        if (window.MathJax && window.MathJax.Hub && window.MathJax.Hub.Config) {window.MathJax.Hub.Config({SVG: {font: \"STIX-Web\"}});}\n",
       "        if (typeof require !== 'undefined') {\n",
       "        require.undef(\"plotly\");\n",
       "        requirejs.config({\n",
       "            paths: {\n",
       "                'plotly': ['https://cdn.plot.ly/plotly-2.32.0.min']\n",
       "            }\n",
       "        });\n",
       "        require(['plotly'], function(Plotly) {\n",
       "            window._Plotly = Plotly;\n",
       "        });\n",
       "        }\n",
       "        </script>\n",
       "        "
      ]
     },
     "metadata": {},
     "output_type": "display_data"
    },
    {
     "data": {
      "text/html": [
       "<div>                            <div id=\"7579a368-90bf-43fa-9dec-1ba8ea6e54f3\" class=\"plotly-graph-div\" style=\"height:525px; width:100%;\"></div>            <script type=\"text/javascript\">                require([\"plotly\"], function(Plotly) {                    window.PLOTLYENV=window.PLOTLYENV || {};                                    if (document.getElementById(\"7579a368-90bf-43fa-9dec-1ba8ea6e54f3\")) {                    Plotly.newPlot(                        \"7579a368-90bf-43fa-9dec-1ba8ea6e54f3\",                        [{\"coloraxis\":\"coloraxis\",\"customdata\":[[\"Los Angeles\"],[\"Shanghai\"],[\"Cairo\"],[\"Mumbai\"],[\"Los Angeles\"],[\"Sydney\"],[\"London\"],[\"Los Angeles\"],[\"Cairo\"],[\"Mumbai\"],[\"Shanghai\"],[\"Cairo\"],[\"Cairo\"],[\"London\"],[\"Sao Paulo\"],[\"Mumbai\"],[\"Tokyo\"],[\"Cairo\"],[\"Sao Paulo\"],[\"Tokyo\"],[\"Mumbai\"],[\"New York\"],[\"Sydney\"],[\"Sao Paulo\"],[\"Moscow\"],[\"New York\"],[\"Sydney\"],[\"London\"],[\"Los Angeles\"],[\"Shanghai\"],[\"Moscow\"],[\"London\"],[\"Mumbai\"],[\"London\"],[\"Los Angeles\"],[\"Mumbai\"],[\"Moscow\"],[\"Los Angeles\"],[\"Tokyo\"],[\"Shanghai\"],[\"Moscow\"],[\"Tokyo\"],[\"Sydney\"],[\"Moscow\"],[\"Sydney\"],[\"Mumbai\"],[\"Tokyo\"],[\"Shanghai\"],[\"Los Angeles\"],[\"Cairo\"],[\"London\"],[\"New York\"],[\"Shanghai\"],[\"Tokyo\"],[\"Cairo\"],[\"Shanghai\"],[\"Tokyo\"],[\"Sao Paulo\"],[\"Sao Paulo\"],[\"Sydney\"],[\"Shanghai\"],[\"Sao Paulo\"],[\"Tokyo\"],[\"Sydney\"],[\"Tokyo\"],[\"Sydney\"],[\"Shanghai\"],[\"Cairo\"],[\"Los Angeles\"],[\"Moscow\"],[\"Cairo\"],[\"Mumbai\"],[\"Tokyo\"],[\"Mumbai\"],[\"Cairo\"],[\"Sydney\"],[\"Moscow\"],[\"Moscow\"],[\"New York\"],[\"Moscow\"],[\"Los Angeles\"],[\"Moscow\"],[\"Cairo\"],[\"New York\"],[\"Cairo\"],[\"Cairo\"],[\"London\"],[\"New York\"],[\"Cairo\"],[\"London\"],[\"London\"],[\"New York\"],[\"Mumbai\"],[\"Sydney\"],[\"Los Angeles\"],[\"Sydney\"],[\"Moscow\"],[\"Los Angeles\"],[\"Moscow\"],[\"Cairo\"],[\"Tokyo\"],[\"New York\"],[\"Los Angeles\"],[\"Los Angeles\"],[\"Cairo\"],[\"Mumbai\"],[\"London\"],[\"Cairo\"],[\"Sao Paulo\"],[\"London\"],[\"New York\"],[\"London\"],[\"Mumbai\"],[\"London\"],[\"New York\"],[\"Mumbai\"],[\"Sydney\"],[\"Los Angeles\"],[\"Los Angeles\"],[\"Moscow\"],[\"Sydney\"],[\"Sydney\"],[\"London\"],[\"Los Angeles\"],[\"New York\"],[\"Shanghai\"],[\"Shanghai\"],[\"Mumbai\"],[\"Los Angeles\"],[\"Los Angeles\"],[\"Shanghai\"],[\"Los Angeles\"],[\"London\"],[\"Sao Paulo\"],[\"Tokyo\"],[\"Sydney\"],[\"Moscow\"],[\"Mumbai\"],[\"Sao Paulo\"],[\"Shanghai\"],[\"Sydney\"],[\"Los Angeles\"],[\"Moscow\"],[\"Los Angeles\"],[\"New York\"],[\"New York\"],[\"Moscow\"],[\"Moscow\"],[\"Shanghai\"],[\"Moscow\"],[\"London\"],[\"Los Angeles\"],[\"Sao Paulo\"],[\"Cairo\"],[\"Moscow\"],[\"Mumbai\"],[\"New York\"],[\"London\"],[\"Sydney\"],[\"Cairo\"],[\"Sao Paulo\"],[\"Cairo\"],[\"Moscow\"],[\"Shanghai\"],[\"New York\"],[\"New York\"],[\"Sydney\"],[\"Shanghai\"],[\"Los Angeles\"],[\"Tokyo\"],[\"London\"],[\"New York\"],[\"Mumbai\"],[\"New York\"],[\"Cairo\"],[\"New York\"],[\"New York\"],[\"Tokyo\"],[\"Tokyo\"],[\"Sao Paulo\"],[\"Los Angeles\"],[\"Mumbai\"],[\"New York\"],[\"New York\"],[\"London\"],[\"Tokyo\"],[\"Mumbai\"],[\"Sydney\"],[\"Sao Paulo\"],[\"Los Angeles\"],[\"Shanghai\"],[\"Los Angeles\"],[\"Cairo\"],[\"New York\"],[\"Sao Paulo\"],[\"Cairo\"],[\"Mumbai\"],[\"Shanghai\"],[\"Tokyo\"],[\"Sao Paulo\"],[\"Sao Paulo\"],[\"New York\"],[\"Moscow\"],[\"Sao Paulo\"],[\"London\"],[\"Shanghai\"],[\"Shanghai\"],[\"London\"],[\"Sydney\"],[\"London\"],[\"London\"],[\"Shanghai\"],[\"Los Angeles\"],[\"Shanghai\"],[\"Moscow\"],[\"New York\"],[\"Cairo\"],[\"Los Angeles\"],[\"Tokyo\"],[\"Cairo\"],[\"New York\"],[\"Moscow\"],[\"Moscow\"],[\"Tokyo\"],[\"Los Angeles\"],[\"Sydney\"],[\"London\"],[\"Los Angeles\"],[\"Sydney\"],[\"Moscow\"],[\"Shanghai\"],[\"New York\"],[\"Tokyo\"],[\"New York\"],[\"Mumbai\"],[\"Mumbai\"],[\"Los Angeles\"],[\"Moscow\"],[\"Moscow\"],[\"London\"],[\"London\"],[\"London\"],[\"Shanghai\"],[\"Cairo\"],[\"Sao Paulo\"],[\"Cairo\"],[\"New York\"],[\"Cairo\"],[\"Shanghai\"],[\"New York\"],[\"Cairo\"],[\"Shanghai\"],[\"Sao Paulo\"],[\"Cairo\"],[\"Shanghai\"],[\"London\"],[\"Moscow\"],[\"London\"],[\"Moscow\"],[\"Tokyo\"],[\"Tokyo\"],[\"Tokyo\"],[\"Sao Paulo\"],[\"London\"],[\"Moscow\"],[\"Shanghai\"],[\"New York\"],[\"Shanghai\"],[\"New York\"],[\"Mumbai\"],[\"Shanghai\"],[\"Cairo\"],[\"Cairo\"],[\"Los Angeles\"],[\"London\"],[\"New York\"],[\"New York\"],[\"London\"],[\"Sao Paulo\"],[\"Los Angeles\"],[\"Sao Paulo\"],[\"Sao Paulo\"],[\"Sao Paulo\"],[\"London\"],[\"Sao Paulo\"],[\"Cairo\"],[\"Tokyo\"],[\"Mumbai\"],[\"New York\"],[\"New York\"],[\"Mumbai\"],[\"London\"],[\"Shanghai\"],[\"London\"],[\"New York\"],[\"New York\"],[\"Mumbai\"],[\"Sao Paulo\"],[\"London\"],[\"Moscow\"],[\"Mumbai\"],[\"Cairo\"],[\"New York\"],[\"Mumbai\"],[\"London\"],[\"New York\"],[\"Shanghai\"],[\"Mumbai\"],[\"Los Angeles\"],[\"New York\"],[\"London\"],[\"Tokyo\"],[\"Moscow\"],[\"Sydney\"],[\"Sao Paulo\"],[\"Sydney\"],[\"London\"],[\"Cairo\"],[\"Cairo\"],[\"Tokyo\"],[\"Sao Paulo\"],[\"Los Angeles\"],[\"Tokyo\"],[\"Sydney\"],[\"Tokyo\"],[\"Sydney\"],[\"New York\"],[\"Cairo\"],[\"New York\"],[\"Moscow\"],[\"Sao Paulo\"],[\"Los Angeles\"],[\"Sydney\"],[\"Los Angeles\"],[\"Sydney\"],[\"London\"],[\"Tokyo\"],[\"Moscow\"],[\"Cairo\"],[\"Sydney\"],[\"Los Angeles\"],[\"Moscow\"],[\"Shanghai\"],[\"Shanghai\"],[\"New York\"],[\"Cairo\"],[\"London\"],[\"Los Angeles\"],[\"Tokyo\"],[\"Tokyo\"],[\"Los Angeles\"],[\"Sao Paulo\"],[\"London\"],[\"Moscow\"],[\"Sydney\"],[\"Sao Paulo\"],[\"Sydney\"],[\"Sydney\"],[\"Sao Paulo\"],[\"New York\"],[\"Shanghai\"],[\"Sydney\"],[\"Sao Paulo\"],[\"Sao Paulo\"],[\"Mumbai\"],[\"New York\"],[\"Cairo\"],[\"Mumbai\"],[\"Mumbai\"],[\"Los Angeles\"],[\"Shanghai\"],[\"Sao Paulo\"],[\"Shanghai\"],[\"London\"],[\"Los Angeles\"],[\"Cairo\"],[\"Shanghai\"],[\"Tokyo\"],[\"Sydney\"],[\"London\"],[\"New York\"],[\"Cairo\"],[\"London\"],[\"Sydney\"],[\"Los Angeles\"],[\"Sydney\"],[\"Mumbai\"],[\"Sydney\"],[\"Mumbai\"],[\"Los Angeles\"],[\"Moscow\"],[\"Mumbai\"],[\"New York\"],[\"Sydney\"],[\"Sydney\"],[\"New York\"],[\"Tokyo\"],[\"Sao Paulo\"],[\"Moscow\"],[\"Cairo\"],[\"Mumbai\"],[\"New York\"],[\"Los Angeles\"],[\"Mumbai\"],[\"Sao Paulo\"],[\"Los Angeles\"],[\"London\"],[\"Sydney\"],[\"London\"],[\"Mumbai\"],[\"Sao Paulo\"],[\"Moscow\"],[\"Mumbai\"],[\"New York\"],[\"Shanghai\"],[\"Mumbai\"],[\"Sydney\"],[\"Sydney\"],[\"Mumbai\"],[\"Los Angeles\"],[\"Shanghai\"],[\"New York\"],[\"Mumbai\"],[\"Los Angeles\"],[\"Sydney\"],[\"Sydney\"],[\"Sao Paulo\"],[\"Mumbai\"],[\"Shanghai\"],[\"Tokyo\"],[\"Shanghai\"],[\"Sydney\"],[\"Sydney\"],[\"London\"],[\"Sydney\"],[\"New York\"],[\"Cairo\"],[\"Mumbai\"],[\"Shanghai\"],[\"Cairo\"],[\"Los Angeles\"],[\"Tokyo\"],[\"New York\"],[\"Shanghai\"],[\"Cairo\"],[\"Tokyo\"],[\"London\"],[\"New York\"],[\"New York\"],[\"London\"],[\"Mumbai\"],[\"London\"],[\"New York\"],[\"New York\"],[\"Cairo\"],[\"Sydney\"],[\"Tokyo\"],[\"London\"],[\"Tokyo\"],[\"London\"],[\"Los Angeles\"],[\"New York\"],[\"Sydney\"],[\"Cairo\"],[\"Sydney\"],[\"Sydney\"],[\"Sydney\"],[\"Tokyo\"],[\"London\"],[\"Moscow\"],[\"Los Angeles\"],[\"Shanghai\"],[\"Sydney\"],[\"Mumbai\"],[\"Tokyo\"],[\"Cairo\"],[\"Shanghai\"],[\"Moscow\"],[\"Mumbai\"],[\"Moscow\"],[\"Shanghai\"],[\"Sydney\"],[\"Mumbai\"],[\"Moscow\"],[\"Cairo\"],[\"London\"],[\"New York\"],[\"London\"],[\"Shanghai\"],[\"Tokyo\"],[\"New York\"],[\"Los Angeles\"],[\"Cairo\"],[\"Los Angeles\"],[\"Mumbai\"],[\"New York\"],[\"Los Angeles\"],[\"Los Angeles\"],[\"Moscow\"],[\"London\"],[\"Moscow\"],[\"New York\"],[\"New York\"],[\"Shanghai\"],[\"Moscow\"],[\"Sao Paulo\"],[\"London\"],[\"New York\"],[\"Shanghai\"],[\"Moscow\"],[\"London\"],[\"Moscow\"],[\"Los Angeles\"],[\"Shanghai\"],[\"London\"],[\"Sydney\"],[\"Mumbai\"],[\"Mumbai\"],[\"London\"],[\"Moscow\"],[\"Shanghai\"],[\"Mumbai\"],[\"Shanghai\"],[\"Mumbai\"],[\"Los Angeles\"],[\"Moscow\"],[\"Los Angeles\"],[\"Mumbai\"],[\"Sydney\"],[\"Sydney\"],[\"Los Angeles\"],[\"Sydney\"],[\"Mumbai\"],[\"London\"],[\"Los Angeles\"],[\"Tokyo\"],[\"Moscow\"],[\"Sydney\"],[\"Sydney\"],[\"New York\"],[\"Sao Paulo\"],[\"Los Angeles\"],[\"Cairo\"],[\"Sydney\"],[\"Moscow\"],[\"Tokyo\"],[\"Sydney\"],[\"Tokyo\"],[\"Mumbai\"],[\"Mumbai\"],[\"Sao Paulo\"],[\"London\"],[\"Cairo\"],[\"New York\"],[\"Sao Paulo\"],[\"Shanghai\"],[\"New York\"],[\"Los Angeles\"],[\"Moscow\"],[\"Shanghai\"],[\"Shanghai\"],[\"Sao Paulo\"],[\"London\"],[\"Sao Paulo\"],[\"Los Angeles\"],[\"Sydney\"],[\"Sydney\"],[\"London\"],[\"Los Angeles\"],[\"London\"],[\"Tokyo\"],[\"Sydney\"],[\"Shanghai\"],[\"Cairo\"],[\"Moscow\"],[\"Los Angeles\"],[\"New York\"],[\"London\"],[\"Moscow\"],[\"New York\"],[\"Moscow\"],[\"Cairo\"],[\"New York\"],[\"Sao Paulo\"],[\"Mumbai\"],[\"Sao Paulo\"],[\"Sydney\"],[\"Mumbai\"],[\"Sao Paulo\"],[\"Mumbai\"],[\"Mumbai\"],[\"Shanghai\"],[\"London\"],[\"London\"],[\"Shanghai\"],[\"Moscow\"],[\"Tokyo\"],[\"Moscow\"],[\"New York\"],[\"New York\"],[\"Mumbai\"],[\"Sao Paulo\"],[\"Sao Paulo\"],[\"London\"],[\"Los Angeles\"],[\"Moscow\"],[\"Sydney\"],[\"Cairo\"],[\"Sao Paulo\"],[\"Cairo\"],[\"Mumbai\"],[\"Cairo\"],[\"Sydney\"],[\"Shanghai\"],[\"Sydney\"],[\"Cairo\"],[\"Sydney\"],[\"Tokyo\"],[\"Mumbai\"],[\"Moscow\"],[\"Shanghai\"],[\"Sao Paulo\"],[\"New York\"],[\"Moscow\"],[\"New York\"],[\"Mumbai\"],[\"Shanghai\"],[\"London\"],[\"Sao Paulo\"],[\"Tokyo\"],[\"London\"],[\"Mumbai\"],[\"Moscow\"],[\"Tokyo\"],[\"Sydney\"],[\"Cairo\"],[\"Tokyo\"],[\"Mumbai\"],[\"Los Angeles\"],[\"Cairo\"],[\"New York\"],[\"Sao Paulo\"],[\"New York\"],[\"Tokyo\"],[\"New York\"],[\"Mumbai\"],[\"Sydney\"],[\"Moscow\"],[\"Sao Paulo\"],[\"New York\"],[\"New York\"],[\"Tokyo\"],[\"Moscow\"],[\"London\"],[\"New York\"],[\"Mumbai\"],[\"Los Angeles\"],[\"Sao Paulo\"],[\"New York\"],[\"Mumbai\"],[\"Mumbai\"],[\"Sao Paulo\"],[\"London\"],[\"Mumbai\"],[\"Los Angeles\"],[\"Mumbai\"],[\"Mumbai\"],[\"Mumbai\"],[\"Sydney\"],[\"Sydney\"],[\"London\"],[\"New York\"],[\"Mumbai\"],[\"Moscow\"],[\"New York\"],[\"London\"],[\"Shanghai\"],[\"New York\"],[\"New York\"],[\"Cairo\"],[\"Tokyo\"],[\"Cairo\"],[\"Los Angeles\"],[\"Sydney\"],[\"Sydney\"],[\"Tokyo\"],[\"Sao Paulo\"],[\"Sao Paulo\"],[\"London\"],[\"Tokyo\"],[\"New York\"],[\"Sao Paulo\"],[\"Mumbai\"],[\"Moscow\"],[\"New York\"],[\"Los Angeles\"],[\"Mumbai\"],[\"Mumbai\"],[\"Tokyo\"],[\"London\"],[\"Los Angeles\"],[\"Sao Paulo\"],[\"Tokyo\"],[\"Sao Paulo\"],[\"Tokyo\"],[\"Tokyo\"],[\"Tokyo\"],[\"London\"],[\"Tokyo\"],[\"Shanghai\"],[\"Moscow\"],[\"Sao Paulo\"],[\"New York\"],[\"Cairo\"],[\"Los Angeles\"],[\"Sydney\"],[\"London\"],[\"New York\"],[\"Mumbai\"],[\"Shanghai\"],[\"Sydney\"],[\"Cairo\"],[\"New York\"],[\"Sydney\"],[\"New York\"],[\"Shanghai\"],[\"Cairo\"],[\"Mumbai\"],[\"Tokyo\"],[\"Sao Paulo\"],[\"Mumbai\"],[\"Tokyo\"],[\"London\"],[\"Moscow\"],[\"Los Angeles\"],[\"Los Angeles\"],[\"Sao Paulo\"],[\"Cairo\"],[\"Shanghai\"],[\"Cairo\"],[\"Shanghai\"],[\"Cairo\"],[\"Moscow\"],[\"London\"],[\"London\"],[\"Tokyo\"],[\"Sydney\"],[\"London\"],[\"London\"],[\"Mumbai\"],[\"Mumbai\"],[\"Tokyo\"],[\"Sydney\"],[\"Sao Paulo\"],[\"Mumbai\"],[\"Sao Paulo\"],[\"New York\"],[\"Mumbai\"],[\"Moscow\"],[\"Sydney\"],[\"Tokyo\"],[\"New York\"],[\"Sydney\"],[\"Moscow\"],[\"Sydney\"],[\"Moscow\"],[\"Moscow\"],[\"Sao Paulo\"],[\"Cairo\"],[\"New York\"],[\"Sydney\"],[\"Shanghai\"],[\"New York\"],[\"Cairo\"],[\"New York\"],[\"London\"],[\"Shanghai\"],[\"Cairo\"],[\"Sao Paulo\"],[\"Sydney\"],[\"Los Angeles\"],[\"Cairo\"],[\"Tokyo\"],[\"Sydney\"],[\"Cairo\"],[\"London\"],[\"Los Angeles\"],[\"London\"],[\"Los Angeles\"],[\"Tokyo\"],[\"Sydney\"],[\"Sao Paulo\"],[\"London\"],[\"London\"],[\"Moscow\"],[\"Los Angeles\"],[\"Mumbai\"],[\"Sydney\"],[\"Los Angeles\"],[\"Moscow\"],[\"New York\"],[\"Los Angeles\"],[\"Sao Paulo\"],[\"Sydney\"],[\"Moscow\"],[\"New York\"],[\"Shanghai\"],[\"Moscow\"],[\"Shanghai\"],[\"Sydney\"],[\"London\"],[\"Moscow\"],[\"Tokyo\"],[\"Shanghai\"],[\"Sao Paulo\"],[\"Tokyo\"],[\"Cairo\"],[\"Cairo\"],[\"New York\"],[\"London\"],[\"Sydney\"],[\"Moscow\"],[\"Mumbai\"],[\"Sao Paulo\"],[\"Shanghai\"],[\"Sydney\"],[\"Tokyo\"],[\"Cairo\"],[\"Sao Paulo\"],[\"Mumbai\"],[\"Moscow\"],[\"New York\"],[\"Mumbai\"],[\"Sao Paulo\"],[\"Mumbai\"],[\"Sao Paulo\"],[\"Sao Paulo\"],[\"Los Angeles\"],[\"Shanghai\"],[\"Cairo\"],[\"Los Angeles\"],[\"Moscow\"],[\"Los Angeles\"],[\"London\"],[\"London\"],[\"Cairo\"],[\"Mumbai\"],[\"Shanghai\"],[\"Cairo\"],[\"Sao Paulo\"],[\"Tokyo\"],[\"Shanghai\"],[\"Shanghai\"],[\"Sao Paulo\"],[\"Sao Paulo\"],[\"New York\"],[\"Cairo\"],[\"Sao Paulo\"],[\"London\"],[\"Moscow\"],[\"Tokyo\"],[\"Cairo\"],[\"Sydney\"],[\"London\"],[\"Mumbai\"],[\"Sao Paulo\"],[\"Sydney\"],[\"Sao Paulo\"],[\"Shanghai\"],[\"London\"],[\"Shanghai\"],[\"New York\"],[\"Shanghai\"],[\"New York\"],[\"New York\"],[\"Sydney\"],[\"Sao Paulo\"],[\"Mumbai\"],[\"Shanghai\"],[\"London\"],[\"New York\"],[\"Sao Paulo\"],[\"Tokyo\"],[\"Cairo\"],[\"Sydney\"],[\"Mumbai\"],[\"Los Angeles\"],[\"Sydney\"],[\"Tokyo\"],[\"Cairo\"],[\"Tokyo\"],[\"Shanghai\"],[\"New York\"],[\"Mumbai\"],[\"Moscow\"],[\"New York\"],[\"Moscow\"],[\"Cairo\"],[\"Sao Paulo\"],[\"Los Angeles\"],[\"London\"],[\"New York\"],[\"Mumbai\"],[\"Tokyo\"],[\"Mumbai\"],[\"Cairo\"],[\"Moscow\"],[\"Tokyo\"],[\"London\"],[\"London\"],[\"New York\"],[\"Cairo\"],[\"Sao Paulo\"],[\"Cairo\"],[\"Moscow\"],[\"Mumbai\"],[\"London\"],[\"Mumbai\"],[\"Mumbai\"],[\"Mumbai\"],[\"London\"],[\"Sydney\"],[\"Shanghai\"],[\"Moscow\"],[\"Sydney\"],[\"Moscow\"],[\"Tokyo\"],[\"Cairo\"],[\"Cairo\"],[\"Los Angeles\"],[\"Cairo\"],[\"London\"],[\"Sao Paulo\"],[\"New York\"],[\"Los Angeles\"],[\"New York\"],[\"Moscow\"],[\"New York\"],[\"New York\"],[\"Los Angeles\"],[\"Tokyo\"],[\"Mumbai\"],[\"Cairo\"],[\"Cairo\"],[\"London\"],[\"Los Angeles\"],[\"London\"],[\"Sao Paulo\"],[\"Sao Paulo\"],[\"London\"],[\"Los Angeles\"],[\"London\"],[\"Cairo\"],[\"Sydney\"],[\"Shanghai\"],[\"New York\"],[\"Shanghai\"],[\"Los Angeles\"],[\"Shanghai\"],[\"Sao Paulo\"],[\"Moscow\"],[\"New York\"],[\"Mumbai\"],[\"Los Angeles\"],[\"New York\"],[\"Shanghai\"],[\"Sao Paulo\"],[\"Tokyo\"],[\"Sydney\"],[\"Mumbai\"],[\"Sydney\"],[\"New York\"],[\"Sao Paulo\"],[\"Sao Paulo\"],[\"Shanghai\"],[\"Cairo\"],[\"Shanghai\"],[\"Cairo\"],[\"Cairo\"],[\"Mumbai\"],[\"Shanghai\"],[\"Tokyo\"],[\"London\"],[\"London\"],[\"Shanghai\"],[\"Shanghai\"],[\"Sydney\"],[\"Mumbai\"],[\"Shanghai\"],[\"Sydney\"],[\"Cairo\"],[\"Sao Paulo\"],[\"Sao Paulo\"],[\"Cairo\"],[\"Los Angeles\"],[\"Sydney\"],[\"Sydney\"],[\"Cairo\"],[\"Tokyo\"],[\"Moscow\"]],\"geo\":\"geo\",\"hovertemplate\":\"\\u003cb\\u003e%{hovertext}\\u003c\\u002fb\\u003e\\u003cbr\\u003e\\u003cbr\\u003eISO Code=%{location}\\u003cbr\\u003eCity=%{customdata[0]}\\u003cbr\\u003eCluster=%{z}\\u003cextra\\u003e\\u003c\\u002fextra\\u003e\",\"hovertext\":[\"USA\",\"China\",\"Egypt\",\"India\",\"USA\",\"Australia\",\"UK\",\"USA\",\"Egypt\",\"India\",\"China\",\"Egypt\",\"Egypt\",\"UK\",\"Brazil\",\"India\",\"Japan\",\"Egypt\",\"Brazil\",\"Japan\",\"India\",\"USA\",\"Australia\",\"Brazil\",\"Russia\",\"USA\",\"Australia\",\"UK\",\"USA\",\"China\",\"Russia\",\"UK\",\"India\",\"UK\",\"USA\",\"India\",\"Russia\",\"USA\",\"Japan\",\"China\",\"Russia\",\"Japan\",\"Australia\",\"Russia\",\"Australia\",\"India\",\"Japan\",\"China\",\"USA\",\"Egypt\",\"UK\",\"USA\",\"China\",\"Japan\",\"Egypt\",\"China\",\"Japan\",\"Brazil\",\"Brazil\",\"Australia\",\"China\",\"Brazil\",\"Japan\",\"Australia\",\"Japan\",\"Australia\",\"China\",\"Egypt\",\"USA\",\"Russia\",\"Egypt\",\"India\",\"Japan\",\"India\",\"Egypt\",\"Australia\",\"Russia\",\"Russia\",\"USA\",\"Russia\",\"USA\",\"Russia\",\"Egypt\",\"USA\",\"Egypt\",\"Egypt\",\"UK\",\"USA\",\"Egypt\",\"UK\",\"UK\",\"USA\",\"India\",\"Australia\",\"USA\",\"Australia\",\"Russia\",\"USA\",\"Russia\",\"Egypt\",\"Japan\",\"USA\",\"USA\",\"USA\",\"Egypt\",\"India\",\"UK\",\"Egypt\",\"Brazil\",\"UK\",\"USA\",\"UK\",\"India\",\"UK\",\"USA\",\"India\",\"Australia\",\"USA\",\"USA\",\"Russia\",\"Australia\",\"Australia\",\"UK\",\"USA\",\"USA\",\"China\",\"China\",\"India\",\"USA\",\"USA\",\"China\",\"USA\",\"UK\",\"Brazil\",\"Japan\",\"Australia\",\"Russia\",\"India\",\"Brazil\",\"China\",\"Australia\",\"USA\",\"Russia\",\"USA\",\"USA\",\"USA\",\"Russia\",\"Russia\",\"China\",\"Russia\",\"UK\",\"USA\",\"Brazil\",\"Egypt\",\"Russia\",\"India\",\"USA\",\"UK\",\"Australia\",\"Egypt\",\"Brazil\",\"Egypt\",\"Russia\",\"China\",\"USA\",\"USA\",\"Australia\",\"China\",\"USA\",\"Japan\",\"UK\",\"USA\",\"India\",\"USA\",\"Egypt\",\"USA\",\"USA\",\"Japan\",\"Japan\",\"Brazil\",\"USA\",\"India\",\"USA\",\"USA\",\"UK\",\"Japan\",\"India\",\"Australia\",\"Brazil\",\"USA\",\"China\",\"USA\",\"Egypt\",\"USA\",\"Brazil\",\"Egypt\",\"India\",\"China\",\"Japan\",\"Brazil\",\"Brazil\",\"USA\",\"Russia\",\"Brazil\",\"UK\",\"China\",\"China\",\"UK\",\"Australia\",\"UK\",\"UK\",\"China\",\"USA\",\"China\",\"Russia\",\"USA\",\"Egypt\",\"USA\",\"Japan\",\"Egypt\",\"USA\",\"Russia\",\"Russia\",\"Japan\",\"USA\",\"Australia\",\"UK\",\"USA\",\"Australia\",\"Russia\",\"China\",\"USA\",\"Japan\",\"USA\",\"India\",\"India\",\"USA\",\"Russia\",\"Russia\",\"UK\",\"UK\",\"UK\",\"China\",\"Egypt\",\"Brazil\",\"Egypt\",\"USA\",\"Egypt\",\"China\",\"USA\",\"Egypt\",\"China\",\"Brazil\",\"Egypt\",\"China\",\"UK\",\"Russia\",\"UK\",\"Russia\",\"Japan\",\"Japan\",\"Japan\",\"Brazil\",\"UK\",\"Russia\",\"China\",\"USA\",\"China\",\"USA\",\"India\",\"China\",\"Egypt\",\"Egypt\",\"USA\",\"UK\",\"USA\",\"USA\",\"UK\",\"Brazil\",\"USA\",\"Brazil\",\"Brazil\",\"Brazil\",\"UK\",\"Brazil\",\"Egypt\",\"Japan\",\"India\",\"USA\",\"USA\",\"India\",\"UK\",\"China\",\"UK\",\"USA\",\"USA\",\"India\",\"Brazil\",\"UK\",\"Russia\",\"India\",\"Egypt\",\"USA\",\"India\",\"UK\",\"USA\",\"China\",\"India\",\"USA\",\"USA\",\"UK\",\"Japan\",\"Russia\",\"Australia\",\"Brazil\",\"Australia\",\"UK\",\"Egypt\",\"Egypt\",\"Japan\",\"Brazil\",\"USA\",\"Japan\",\"Australia\",\"Japan\",\"Australia\",\"USA\",\"Egypt\",\"USA\",\"Russia\",\"Brazil\",\"USA\",\"Australia\",\"USA\",\"Australia\",\"UK\",\"Japan\",\"Russia\",\"Egypt\",\"Australia\",\"USA\",\"Russia\",\"China\",\"China\",\"USA\",\"Egypt\",\"UK\",\"USA\",\"Japan\",\"Japan\",\"USA\",\"Brazil\",\"UK\",\"Russia\",\"Australia\",\"Brazil\",\"Australia\",\"Australia\",\"Brazil\",\"USA\",\"China\",\"Australia\",\"Brazil\",\"Brazil\",\"India\",\"USA\",\"Egypt\",\"India\",\"India\",\"USA\",\"China\",\"Brazil\",\"China\",\"UK\",\"USA\",\"Egypt\",\"China\",\"Japan\",\"Australia\",\"UK\",\"USA\",\"Egypt\",\"UK\",\"Australia\",\"USA\",\"Australia\",\"India\",\"Australia\",\"India\",\"USA\",\"Russia\",\"India\",\"USA\",\"Australia\",\"Australia\",\"USA\",\"Japan\",\"Brazil\",\"Russia\",\"Egypt\",\"India\",\"USA\",\"USA\",\"India\",\"Brazil\",\"USA\",\"UK\",\"Australia\",\"UK\",\"India\",\"Brazil\",\"Russia\",\"India\",\"USA\",\"China\",\"India\",\"Australia\",\"Australia\",\"India\",\"USA\",\"China\",\"USA\",\"India\",\"USA\",\"Australia\",\"Australia\",\"Brazil\",\"India\",\"China\",\"Japan\",\"China\",\"Australia\",\"Australia\",\"UK\",\"Australia\",\"USA\",\"Egypt\",\"India\",\"China\",\"Egypt\",\"USA\",\"Japan\",\"USA\",\"China\",\"Egypt\",\"Japan\",\"UK\",\"USA\",\"USA\",\"UK\",\"India\",\"UK\",\"USA\",\"USA\",\"Egypt\",\"Australia\",\"Japan\",\"UK\",\"Japan\",\"UK\",\"USA\",\"USA\",\"Australia\",\"Egypt\",\"Australia\",\"Australia\",\"Australia\",\"Japan\",\"UK\",\"Russia\",\"USA\",\"China\",\"Australia\",\"India\",\"Japan\",\"Egypt\",\"China\",\"Russia\",\"India\",\"Russia\",\"China\",\"Australia\",\"India\",\"Russia\",\"Egypt\",\"UK\",\"USA\",\"UK\",\"China\",\"Japan\",\"USA\",\"USA\",\"Egypt\",\"USA\",\"India\",\"USA\",\"USA\",\"USA\",\"Russia\",\"UK\",\"Russia\",\"USA\",\"USA\",\"China\",\"Russia\",\"Brazil\",\"UK\",\"USA\",\"China\",\"Russia\",\"UK\",\"Russia\",\"USA\",\"China\",\"UK\",\"Australia\",\"India\",\"India\",\"UK\",\"Russia\",\"China\",\"India\",\"China\",\"India\",\"USA\",\"Russia\",\"USA\",\"India\",\"Australia\",\"Australia\",\"USA\",\"Australia\",\"India\",\"UK\",\"USA\",\"Japan\",\"Russia\",\"Australia\",\"Australia\",\"USA\",\"Brazil\",\"USA\",\"Egypt\",\"Australia\",\"Russia\",\"Japan\",\"Australia\",\"Japan\",\"India\",\"India\",\"Brazil\",\"UK\",\"Egypt\",\"USA\",\"Brazil\",\"China\",\"USA\",\"USA\",\"Russia\",\"China\",\"China\",\"Brazil\",\"UK\",\"Brazil\",\"USA\",\"Australia\",\"Australia\",\"UK\",\"USA\",\"UK\",\"Japan\",\"Australia\",\"China\",\"Egypt\",\"Russia\",\"USA\",\"USA\",\"UK\",\"Russia\",\"USA\",\"Russia\",\"Egypt\",\"USA\",\"Brazil\",\"India\",\"Brazil\",\"Australia\",\"India\",\"Brazil\",\"India\",\"India\",\"China\",\"UK\",\"UK\",\"China\",\"Russia\",\"Japan\",\"Russia\",\"USA\",\"USA\",\"India\",\"Brazil\",\"Brazil\",\"UK\",\"USA\",\"Russia\",\"Australia\",\"Egypt\",\"Brazil\",\"Egypt\",\"India\",\"Egypt\",\"Australia\",\"China\",\"Australia\",\"Egypt\",\"Australia\",\"Japan\",\"India\",\"Russia\",\"China\",\"Brazil\",\"USA\",\"Russia\",\"USA\",\"India\",\"China\",\"UK\",\"Brazil\",\"Japan\",\"UK\",\"India\",\"Russia\",\"Japan\",\"Australia\",\"Egypt\",\"Japan\",\"India\",\"USA\",\"Egypt\",\"USA\",\"Brazil\",\"USA\",\"Japan\",\"USA\",\"India\",\"Australia\",\"Russia\",\"Brazil\",\"USA\",\"USA\",\"Japan\",\"Russia\",\"UK\",\"USA\",\"India\",\"USA\",\"Brazil\",\"USA\",\"India\",\"India\",\"Brazil\",\"UK\",\"India\",\"USA\",\"India\",\"India\",\"India\",\"Australia\",\"Australia\",\"UK\",\"USA\",\"India\",\"Russia\",\"USA\",\"UK\",\"China\",\"USA\",\"USA\",\"Egypt\",\"Japan\",\"Egypt\",\"USA\",\"Australia\",\"Australia\",\"Japan\",\"Brazil\",\"Brazil\",\"UK\",\"Japan\",\"USA\",\"Brazil\",\"India\",\"Russia\",\"USA\",\"USA\",\"India\",\"India\",\"Japan\",\"UK\",\"USA\",\"Brazil\",\"Japan\",\"Brazil\",\"Japan\",\"Japan\",\"Japan\",\"UK\",\"Japan\",\"China\",\"Russia\",\"Brazil\",\"USA\",\"Egypt\",\"USA\",\"Australia\",\"UK\",\"USA\",\"India\",\"China\",\"Australia\",\"Egypt\",\"USA\",\"Australia\",\"USA\",\"China\",\"Egypt\",\"India\",\"Japan\",\"Brazil\",\"India\",\"Japan\",\"UK\",\"Russia\",\"USA\",\"USA\",\"Brazil\",\"Egypt\",\"China\",\"Egypt\",\"China\",\"Egypt\",\"Russia\",\"UK\",\"UK\",\"Japan\",\"Australia\",\"UK\",\"UK\",\"India\",\"India\",\"Japan\",\"Australia\",\"Brazil\",\"India\",\"Brazil\",\"USA\",\"India\",\"Russia\",\"Australia\",\"Japan\",\"USA\",\"Australia\",\"Russia\",\"Australia\",\"Russia\",\"Russia\",\"Brazil\",\"Egypt\",\"USA\",\"Australia\",\"China\",\"USA\",\"Egypt\",\"USA\",\"UK\",\"China\",\"Egypt\",\"Brazil\",\"Australia\",\"USA\",\"Egypt\",\"Japan\",\"Australia\",\"Egypt\",\"UK\",\"USA\",\"UK\",\"USA\",\"Japan\",\"Australia\",\"Brazil\",\"UK\",\"UK\",\"Russia\",\"USA\",\"India\",\"Australia\",\"USA\",\"Russia\",\"USA\",\"USA\",\"Brazil\",\"Australia\",\"Russia\",\"USA\",\"China\",\"Russia\",\"China\",\"Australia\",\"UK\",\"Russia\",\"Japan\",\"China\",\"Brazil\",\"Japan\",\"Egypt\",\"Egypt\",\"USA\",\"UK\",\"Australia\",\"Russia\",\"India\",\"Brazil\",\"China\",\"Australia\",\"Japan\",\"Egypt\",\"Brazil\",\"India\",\"Russia\",\"USA\",\"India\",\"Brazil\",\"India\",\"Brazil\",\"Brazil\",\"USA\",\"China\",\"Egypt\",\"USA\",\"Russia\",\"USA\",\"UK\",\"UK\",\"Egypt\",\"India\",\"China\",\"Egypt\",\"Brazil\",\"Japan\",\"China\",\"China\",\"Brazil\",\"Brazil\",\"USA\",\"Egypt\",\"Brazil\",\"UK\",\"Russia\",\"Japan\",\"Egypt\",\"Australia\",\"UK\",\"India\",\"Brazil\",\"Australia\",\"Brazil\",\"China\",\"UK\",\"China\",\"USA\",\"China\",\"USA\",\"USA\",\"Australia\",\"Brazil\",\"India\",\"China\",\"UK\",\"USA\",\"Brazil\",\"Japan\",\"Egypt\",\"Australia\",\"India\",\"USA\",\"Australia\",\"Japan\",\"Egypt\",\"Japan\",\"China\",\"USA\",\"India\",\"Russia\",\"USA\",\"Russia\",\"Egypt\",\"Brazil\",\"USA\",\"UK\",\"USA\",\"India\",\"Japan\",\"India\",\"Egypt\",\"Russia\",\"Japan\",\"UK\",\"UK\",\"USA\",\"Egypt\",\"Brazil\",\"Egypt\",\"Russia\",\"India\",\"UK\",\"India\",\"India\",\"India\",\"UK\",\"Australia\",\"China\",\"Russia\",\"Australia\",\"Russia\",\"Japan\",\"Egypt\",\"Egypt\",\"USA\",\"Egypt\",\"UK\",\"Brazil\",\"USA\",\"USA\",\"USA\",\"Russia\",\"USA\",\"USA\",\"USA\",\"Japan\",\"India\",\"Egypt\",\"Egypt\",\"UK\",\"USA\",\"UK\",\"Brazil\",\"Brazil\",\"UK\",\"USA\",\"UK\",\"Egypt\",\"Australia\",\"China\",\"USA\",\"China\",\"USA\",\"China\",\"Brazil\",\"Russia\",\"USA\",\"India\",\"USA\",\"USA\",\"China\",\"Brazil\",\"Japan\",\"Australia\",\"India\",\"Australia\",\"USA\",\"Brazil\",\"Brazil\",\"China\",\"Egypt\",\"China\",\"Egypt\",\"Egypt\",\"India\",\"China\",\"Japan\",\"UK\",\"UK\",\"China\",\"China\",\"Australia\",\"India\",\"China\",\"Australia\",\"Egypt\",\"Brazil\",\"Brazil\",\"Egypt\",\"USA\",\"Australia\",\"Australia\",\"Egypt\",\"Japan\",\"Russia\"],\"locations\":[\"USA\",\"CHN\",\"EGY\",\"IND\",\"USA\",\"AUS\",\"GBR\",\"USA\",\"EGY\",\"IND\",\"CHN\",\"EGY\",\"EGY\",\"GBR\",\"BRA\",\"IND\",\"JPN\",\"EGY\",\"BRA\",\"JPN\",\"IND\",\"USA\",\"AUS\",\"BRA\",\"RUS\",\"USA\",\"AUS\",\"GBR\",\"USA\",\"CHN\",\"RUS\",\"GBR\",\"IND\",\"GBR\",\"USA\",\"IND\",\"RUS\",\"USA\",\"JPN\",\"CHN\",\"RUS\",\"JPN\",\"AUS\",\"RUS\",\"AUS\",\"IND\",\"JPN\",\"CHN\",\"USA\",\"EGY\",\"GBR\",\"USA\",\"CHN\",\"JPN\",\"EGY\",\"CHN\",\"JPN\",\"BRA\",\"BRA\",\"AUS\",\"CHN\",\"BRA\",\"JPN\",\"AUS\",\"JPN\",\"AUS\",\"CHN\",\"EGY\",\"USA\",\"RUS\",\"EGY\",\"IND\",\"JPN\",\"IND\",\"EGY\",\"AUS\",\"RUS\",\"RUS\",\"USA\",\"RUS\",\"USA\",\"RUS\",\"EGY\",\"USA\",\"EGY\",\"EGY\",\"GBR\",\"USA\",\"EGY\",\"GBR\",\"GBR\",\"USA\",\"IND\",\"AUS\",\"USA\",\"AUS\",\"RUS\",\"USA\",\"RUS\",\"EGY\",\"JPN\",\"USA\",\"USA\",\"USA\",\"EGY\",\"IND\",\"GBR\",\"EGY\",\"BRA\",\"GBR\",\"USA\",\"GBR\",\"IND\",\"GBR\",\"USA\",\"IND\",\"AUS\",\"USA\",\"USA\",\"RUS\",\"AUS\",\"AUS\",\"GBR\",\"USA\",\"USA\",\"CHN\",\"CHN\",\"IND\",\"USA\",\"USA\",\"CHN\",\"USA\",\"GBR\",\"BRA\",\"JPN\",\"AUS\",\"RUS\",\"IND\",\"BRA\",\"CHN\",\"AUS\",\"USA\",\"RUS\",\"USA\",\"USA\",\"USA\",\"RUS\",\"RUS\",\"CHN\",\"RUS\",\"GBR\",\"USA\",\"BRA\",\"EGY\",\"RUS\",\"IND\",\"USA\",\"GBR\",\"AUS\",\"EGY\",\"BRA\",\"EGY\",\"RUS\",\"CHN\",\"USA\",\"USA\",\"AUS\",\"CHN\",\"USA\",\"JPN\",\"GBR\",\"USA\",\"IND\",\"USA\",\"EGY\",\"USA\",\"USA\",\"JPN\",\"JPN\",\"BRA\",\"USA\",\"IND\",\"USA\",\"USA\",\"GBR\",\"JPN\",\"IND\",\"AUS\",\"BRA\",\"USA\",\"CHN\",\"USA\",\"EGY\",\"USA\",\"BRA\",\"EGY\",\"IND\",\"CHN\",\"JPN\",\"BRA\",\"BRA\",\"USA\",\"RUS\",\"BRA\",\"GBR\",\"CHN\",\"CHN\",\"GBR\",\"AUS\",\"GBR\",\"GBR\",\"CHN\",\"USA\",\"CHN\",\"RUS\",\"USA\",\"EGY\",\"USA\",\"JPN\",\"EGY\",\"USA\",\"RUS\",\"RUS\",\"JPN\",\"USA\",\"AUS\",\"GBR\",\"USA\",\"AUS\",\"RUS\",\"CHN\",\"USA\",\"JPN\",\"USA\",\"IND\",\"IND\",\"USA\",\"RUS\",\"RUS\",\"GBR\",\"GBR\",\"GBR\",\"CHN\",\"EGY\",\"BRA\",\"EGY\",\"USA\",\"EGY\",\"CHN\",\"USA\",\"EGY\",\"CHN\",\"BRA\",\"EGY\",\"CHN\",\"GBR\",\"RUS\",\"GBR\",\"RUS\",\"JPN\",\"JPN\",\"JPN\",\"BRA\",\"GBR\",\"RUS\",\"CHN\",\"USA\",\"CHN\",\"USA\",\"IND\",\"CHN\",\"EGY\",\"EGY\",\"USA\",\"GBR\",\"USA\",\"USA\",\"GBR\",\"BRA\",\"USA\",\"BRA\",\"BRA\",\"BRA\",\"GBR\",\"BRA\",\"EGY\",\"JPN\",\"IND\",\"USA\",\"USA\",\"IND\",\"GBR\",\"CHN\",\"GBR\",\"USA\",\"USA\",\"IND\",\"BRA\",\"GBR\",\"RUS\",\"IND\",\"EGY\",\"USA\",\"IND\",\"GBR\",\"USA\",\"CHN\",\"IND\",\"USA\",\"USA\",\"GBR\",\"JPN\",\"RUS\",\"AUS\",\"BRA\",\"AUS\",\"GBR\",\"EGY\",\"EGY\",\"JPN\",\"BRA\",\"USA\",\"JPN\",\"AUS\",\"JPN\",\"AUS\",\"USA\",\"EGY\",\"USA\",\"RUS\",\"BRA\",\"USA\",\"AUS\",\"USA\",\"AUS\",\"GBR\",\"JPN\",\"RUS\",\"EGY\",\"AUS\",\"USA\",\"RUS\",\"CHN\",\"CHN\",\"USA\",\"EGY\",\"GBR\",\"USA\",\"JPN\",\"JPN\",\"USA\",\"BRA\",\"GBR\",\"RUS\",\"AUS\",\"BRA\",\"AUS\",\"AUS\",\"BRA\",\"USA\",\"CHN\",\"AUS\",\"BRA\",\"BRA\",\"IND\",\"USA\",\"EGY\",\"IND\",\"IND\",\"USA\",\"CHN\",\"BRA\",\"CHN\",\"GBR\",\"USA\",\"EGY\",\"CHN\",\"JPN\",\"AUS\",\"GBR\",\"USA\",\"EGY\",\"GBR\",\"AUS\",\"USA\",\"AUS\",\"IND\",\"AUS\",\"IND\",\"USA\",\"RUS\",\"IND\",\"USA\",\"AUS\",\"AUS\",\"USA\",\"JPN\",\"BRA\",\"RUS\",\"EGY\",\"IND\",\"USA\",\"USA\",\"IND\",\"BRA\",\"USA\",\"GBR\",\"AUS\",\"GBR\",\"IND\",\"BRA\",\"RUS\",\"IND\",\"USA\",\"CHN\",\"IND\",\"AUS\",\"AUS\",\"IND\",\"USA\",\"CHN\",\"USA\",\"IND\",\"USA\",\"AUS\",\"AUS\",\"BRA\",\"IND\",\"CHN\",\"JPN\",\"CHN\",\"AUS\",\"AUS\",\"GBR\",\"AUS\",\"USA\",\"EGY\",\"IND\",\"CHN\",\"EGY\",\"USA\",\"JPN\",\"USA\",\"CHN\",\"EGY\",\"JPN\",\"GBR\",\"USA\",\"USA\",\"GBR\",\"IND\",\"GBR\",\"USA\",\"USA\",\"EGY\",\"AUS\",\"JPN\",\"GBR\",\"JPN\",\"GBR\",\"USA\",\"USA\",\"AUS\",\"EGY\",\"AUS\",\"AUS\",\"AUS\",\"JPN\",\"GBR\",\"RUS\",\"USA\",\"CHN\",\"AUS\",\"IND\",\"JPN\",\"EGY\",\"CHN\",\"RUS\",\"IND\",\"RUS\",\"CHN\",\"AUS\",\"IND\",\"RUS\",\"EGY\",\"GBR\",\"USA\",\"GBR\",\"CHN\",\"JPN\",\"USA\",\"USA\",\"EGY\",\"USA\",\"IND\",\"USA\",\"USA\",\"USA\",\"RUS\",\"GBR\",\"RUS\",\"USA\",\"USA\",\"CHN\",\"RUS\",\"BRA\",\"GBR\",\"USA\",\"CHN\",\"RUS\",\"GBR\",\"RUS\",\"USA\",\"CHN\",\"GBR\",\"AUS\",\"IND\",\"IND\",\"GBR\",\"RUS\",\"CHN\",\"IND\",\"CHN\",\"IND\",\"USA\",\"RUS\",\"USA\",\"IND\",\"AUS\",\"AUS\",\"USA\",\"AUS\",\"IND\",\"GBR\",\"USA\",\"JPN\",\"RUS\",\"AUS\",\"AUS\",\"USA\",\"BRA\",\"USA\",\"EGY\",\"AUS\",\"RUS\",\"JPN\",\"AUS\",\"JPN\",\"IND\",\"IND\",\"BRA\",\"GBR\",\"EGY\",\"USA\",\"BRA\",\"CHN\",\"USA\",\"USA\",\"RUS\",\"CHN\",\"CHN\",\"BRA\",\"GBR\",\"BRA\",\"USA\",\"AUS\",\"AUS\",\"GBR\",\"USA\",\"GBR\",\"JPN\",\"AUS\",\"CHN\",\"EGY\",\"RUS\",\"USA\",\"USA\",\"GBR\",\"RUS\",\"USA\",\"RUS\",\"EGY\",\"USA\",\"BRA\",\"IND\",\"BRA\",\"AUS\",\"IND\",\"BRA\",\"IND\",\"IND\",\"CHN\",\"GBR\",\"GBR\",\"CHN\",\"RUS\",\"JPN\",\"RUS\",\"USA\",\"USA\",\"IND\",\"BRA\",\"BRA\",\"GBR\",\"USA\",\"RUS\",\"AUS\",\"EGY\",\"BRA\",\"EGY\",\"IND\",\"EGY\",\"AUS\",\"CHN\",\"AUS\",\"EGY\",\"AUS\",\"JPN\",\"IND\",\"RUS\",\"CHN\",\"BRA\",\"USA\",\"RUS\",\"USA\",\"IND\",\"CHN\",\"GBR\",\"BRA\",\"JPN\",\"GBR\",\"IND\",\"RUS\",\"JPN\",\"AUS\",\"EGY\",\"JPN\",\"IND\",\"USA\",\"EGY\",\"USA\",\"BRA\",\"USA\",\"JPN\",\"USA\",\"IND\",\"AUS\",\"RUS\",\"BRA\",\"USA\",\"USA\",\"JPN\",\"RUS\",\"GBR\",\"USA\",\"IND\",\"USA\",\"BRA\",\"USA\",\"IND\",\"IND\",\"BRA\",\"GBR\",\"IND\",\"USA\",\"IND\",\"IND\",\"IND\",\"AUS\",\"AUS\",\"GBR\",\"USA\",\"IND\",\"RUS\",\"USA\",\"GBR\",\"CHN\",\"USA\",\"USA\",\"EGY\",\"JPN\",\"EGY\",\"USA\",\"AUS\",\"AUS\",\"JPN\",\"BRA\",\"BRA\",\"GBR\",\"JPN\",\"USA\",\"BRA\",\"IND\",\"RUS\",\"USA\",\"USA\",\"IND\",\"IND\",\"JPN\",\"GBR\",\"USA\",\"BRA\",\"JPN\",\"BRA\",\"JPN\",\"JPN\",\"JPN\",\"GBR\",\"JPN\",\"CHN\",\"RUS\",\"BRA\",\"USA\",\"EGY\",\"USA\",\"AUS\",\"GBR\",\"USA\",\"IND\",\"CHN\",\"AUS\",\"EGY\",\"USA\",\"AUS\",\"USA\",\"CHN\",\"EGY\",\"IND\",\"JPN\",\"BRA\",\"IND\",\"JPN\",\"GBR\",\"RUS\",\"USA\",\"USA\",\"BRA\",\"EGY\",\"CHN\",\"EGY\",\"CHN\",\"EGY\",\"RUS\",\"GBR\",\"GBR\",\"JPN\",\"AUS\",\"GBR\",\"GBR\",\"IND\",\"IND\",\"JPN\",\"AUS\",\"BRA\",\"IND\",\"BRA\",\"USA\",\"IND\",\"RUS\",\"AUS\",\"JPN\",\"USA\",\"AUS\",\"RUS\",\"AUS\",\"RUS\",\"RUS\",\"BRA\",\"EGY\",\"USA\",\"AUS\",\"CHN\",\"USA\",\"EGY\",\"USA\",\"GBR\",\"CHN\",\"EGY\",\"BRA\",\"AUS\",\"USA\",\"EGY\",\"JPN\",\"AUS\",\"EGY\",\"GBR\",\"USA\",\"GBR\",\"USA\",\"JPN\",\"AUS\",\"BRA\",\"GBR\",\"GBR\",\"RUS\",\"USA\",\"IND\",\"AUS\",\"USA\",\"RUS\",\"USA\",\"USA\",\"BRA\",\"AUS\",\"RUS\",\"USA\",\"CHN\",\"RUS\",\"CHN\",\"AUS\",\"GBR\",\"RUS\",\"JPN\",\"CHN\",\"BRA\",\"JPN\",\"EGY\",\"EGY\",\"USA\",\"GBR\",\"AUS\",\"RUS\",\"IND\",\"BRA\",\"CHN\",\"AUS\",\"JPN\",\"EGY\",\"BRA\",\"IND\",\"RUS\",\"USA\",\"IND\",\"BRA\",\"IND\",\"BRA\",\"BRA\",\"USA\",\"CHN\",\"EGY\",\"USA\",\"RUS\",\"USA\",\"GBR\",\"GBR\",\"EGY\",\"IND\",\"CHN\",\"EGY\",\"BRA\",\"JPN\",\"CHN\",\"CHN\",\"BRA\",\"BRA\",\"USA\",\"EGY\",\"BRA\",\"GBR\",\"RUS\",\"JPN\",\"EGY\",\"AUS\",\"GBR\",\"IND\",\"BRA\",\"AUS\",\"BRA\",\"CHN\",\"GBR\",\"CHN\",\"USA\",\"CHN\",\"USA\",\"USA\",\"AUS\",\"BRA\",\"IND\",\"CHN\",\"GBR\",\"USA\",\"BRA\",\"JPN\",\"EGY\",\"AUS\",\"IND\",\"USA\",\"AUS\",\"JPN\",\"EGY\",\"JPN\",\"CHN\",\"USA\",\"IND\",\"RUS\",\"USA\",\"RUS\",\"EGY\",\"BRA\",\"USA\",\"GBR\",\"USA\",\"IND\",\"JPN\",\"IND\",\"EGY\",\"RUS\",\"JPN\",\"GBR\",\"GBR\",\"USA\",\"EGY\",\"BRA\",\"EGY\",\"RUS\",\"IND\",\"GBR\",\"IND\",\"IND\",\"IND\",\"GBR\",\"AUS\",\"CHN\",\"RUS\",\"AUS\",\"RUS\",\"JPN\",\"EGY\",\"EGY\",\"USA\",\"EGY\",\"GBR\",\"BRA\",\"USA\",\"USA\",\"USA\",\"RUS\",\"USA\",\"USA\",\"USA\",\"JPN\",\"IND\",\"EGY\",\"EGY\",\"GBR\",\"USA\",\"GBR\",\"BRA\",\"BRA\",\"GBR\",\"USA\",\"GBR\",\"EGY\",\"AUS\",\"CHN\",\"USA\",\"CHN\",\"USA\",\"CHN\",\"BRA\",\"RUS\",\"USA\",\"IND\",\"USA\",\"USA\",\"CHN\",\"BRA\",\"JPN\",\"AUS\",\"IND\",\"AUS\",\"USA\",\"BRA\",\"BRA\",\"CHN\",\"EGY\",\"CHN\",\"EGY\",\"EGY\",\"IND\",\"CHN\",\"JPN\",\"GBR\",\"GBR\",\"CHN\",\"CHN\",\"AUS\",\"IND\",\"CHN\",\"AUS\",\"EGY\",\"BRA\",\"BRA\",\"EGY\",\"USA\",\"AUS\",\"AUS\",\"EGY\",\"JPN\",\"RUS\"],\"name\":\"\",\"z\":[1,0,3,0,2,0,3,2,2,2,3,0,3,1,1,1,1,0,0,0,3,3,3,3,1,1,3,2,2,2,0,1,2,3,0,0,2,1,1,2,3,2,0,0,1,1,3,0,1,3,2,1,3,1,2,0,3,0,3,0,3,2,1,2,1,2,1,3,1,2,3,0,2,0,0,3,2,1,2,1,2,1,2,0,2,2,3,3,3,0,0,2,1,3,1,3,0,1,0,0,1,0,0,2,0,2,0,3,0,0,2,3,2,0,0,3,0,3,3,2,0,1,0,1,2,0,1,1,1,0,0,0,3,0,0,3,3,0,2,3,3,0,3,3,2,2,1,3,2,0,0,0,1,3,3,0,3,0,1,2,2,3,3,2,3,0,0,2,1,3,2,0,2,3,3,1,2,1,2,2,3,3,0,1,0,2,3,0,2,0,3,3,1,2,3,3,3,3,0,0,0,2,0,2,1,0,1,2,1,2,0,1,1,1,3,2,0,0,2,3,0,0,0,0,2,3,0,0,3,2,3,2,1,3,2,0,0,3,1,3,0,0,2,1,2,0,1,1,2,3,0,1,2,2,0,3,0,3,1,2,2,1,1,3,2,2,2,0,3,0,2,0,3,1,2,1,0,2,2,0,0,1,3,3,3,3,2,1,0,1,1,2,3,2,2,0,2,2,3,3,1,2,0,1,3,3,2,3,1,2,1,3,0,3,0,0,1,1,1,1,1,3,2,3,2,1,0,0,2,3,1,1,3,1,1,0,0,1,1,3,2,2,0,1,0,0,2,3,2,3,0,2,1,1,2,0,3,1,2,1,1,0,2,0,1,3,3,1,3,3,3,1,0,1,0,3,1,1,2,3,0,0,0,2,2,1,3,2,2,0,0,0,3,2,3,0,1,0,1,1,0,0,2,2,0,1,2,3,1,2,0,1,0,1,0,3,1,0,2,3,3,1,1,0,0,0,2,2,1,1,0,2,3,0,3,1,2,1,0,2,2,0,1,1,2,1,1,2,2,0,0,1,2,1,2,0,3,1,0,0,0,0,1,1,0,1,3,2,0,1,3,0,2,1,0,2,1,2,3,0,0,3,0,3,0,1,1,2,2,2,0,3,2,1,2,3,0,3,1,3,2,1,1,3,3,0,2,0,1,0,1,0,2,3,1,0,3,0,3,2,3,2,2,1,1,3,1,1,1,3,0,3,2,1,2,0,1,3,0,2,0,0,1,2,2,3,1,0,0,1,1,3,1,1,3,3,0,2,1,3,0,2,3,2,1,1,0,2,0,3,3,2,0,3,2,2,2,0,0,1,3,0,2,3,0,3,2,0,2,2,2,3,3,1,0,2,3,2,1,2,3,2,3,1,1,3,0,1,2,3,1,2,2,0,0,2,2,3,1,1,2,3,0,2,2,3,2,3,0,2,0,1,1,2,3,3,1,3,1,1,3,0,2,0,3,2,1,2,3,1,2,1,1,1,1,1,3,1,1,0,2,2,2,2,1,1,0,1,0,0,0,0,0,0,3,1,2,0,3,2,0,2,1,1,0,3,0,3,1,3,1,3,3,0,0,3,3,1,2,3,1,3,3,2,2,1,2,2,2,2,0,1,2,0,3,3,1,3,0,3,2,2,0,2,3,3,2,1,0,3,1,1,1,2,0,3,3,2,3,1,1,2,1,0,0,2,0,3,1,0,1,1,1,3,0,2,3,0,2,0,1,0,3,0,3,2,0,3,2,2,3,0,3,3,0,1,2,2,1,0,1,1,2,2,0,0,2,1,3,2,1,1,1,2,3,2,2,3,2,1,1,1,2,3,1,3,2,0,3,1,0,3,2,3,1,0,2,3,3,0,2,0,3,0,1,1,0,0,2,2,1,2,2,1,3,0,1,2,0,2,0,0,1,1,2,0,3,0,0,3,1,0,0,0,0,3,0,3,2,1,1,0,2,3,1,0,1,3,2,3,0,0,1,0,1,3,0,1,2,2,1,3,3,0,0,1,1,3,0,0,2,3,0,3,0,0,2,0,3,3,1,2,3,3,0,3,0,2,0,3,2,0,1,1,3,0,0,0,3,1,2,2,2,2,0,0,3,2,3,0,3,1,1,2,1,2,3,0,3,3,0,1,2,0,0,3,3,2,0,0,3,2,3,2,0,2,2,0,2,0,3,3,0,2,3,0,0,3,2,3,1,2,0,2,1,1,3,0,3,1,3,0,3,1,0,1,0,1,2,1,3,1,2,1,2,1,0,3,0,2],\"type\":\"choropleth\"}],                        {\"template\":{\"data\":{\"histogram2dcontour\":[{\"type\":\"histogram2dcontour\",\"colorbar\":{\"outlinewidth\":0,\"ticks\":\"\"},\"colorscale\":[[0.0,\"#0d0887\"],[0.1111111111111111,\"#46039f\"],[0.2222222222222222,\"#7201a8\"],[0.3333333333333333,\"#9c179e\"],[0.4444444444444444,\"#bd3786\"],[0.5555555555555556,\"#d8576b\"],[0.6666666666666666,\"#ed7953\"],[0.7777777777777778,\"#fb9f3a\"],[0.8888888888888888,\"#fdca26\"],[1.0,\"#f0f921\"]]}],\"choropleth\":[{\"type\":\"choropleth\",\"colorbar\":{\"outlinewidth\":0,\"ticks\":\"\"}}],\"histogram2d\":[{\"type\":\"histogram2d\",\"colorbar\":{\"outlinewidth\":0,\"ticks\":\"\"},\"colorscale\":[[0.0,\"#0d0887\"],[0.1111111111111111,\"#46039f\"],[0.2222222222222222,\"#7201a8\"],[0.3333333333333333,\"#9c179e\"],[0.4444444444444444,\"#bd3786\"],[0.5555555555555556,\"#d8576b\"],[0.6666666666666666,\"#ed7953\"],[0.7777777777777778,\"#fb9f3a\"],[0.8888888888888888,\"#fdca26\"],[1.0,\"#f0f921\"]]}],\"heatmap\":[{\"type\":\"heatmap\",\"colorbar\":{\"outlinewidth\":0,\"ticks\":\"\"},\"colorscale\":[[0.0,\"#0d0887\"],[0.1111111111111111,\"#46039f\"],[0.2222222222222222,\"#7201a8\"],[0.3333333333333333,\"#9c179e\"],[0.4444444444444444,\"#bd3786\"],[0.5555555555555556,\"#d8576b\"],[0.6666666666666666,\"#ed7953\"],[0.7777777777777778,\"#fb9f3a\"],[0.8888888888888888,\"#fdca26\"],[1.0,\"#f0f921\"]]}],\"heatmapgl\":[{\"type\":\"heatmapgl\",\"colorbar\":{\"outlinewidth\":0,\"ticks\":\"\"},\"colorscale\":[[0.0,\"#0d0887\"],[0.1111111111111111,\"#46039f\"],[0.2222222222222222,\"#7201a8\"],[0.3333333333333333,\"#9c179e\"],[0.4444444444444444,\"#bd3786\"],[0.5555555555555556,\"#d8576b\"],[0.6666666666666666,\"#ed7953\"],[0.7777777777777778,\"#fb9f3a\"],[0.8888888888888888,\"#fdca26\"],[1.0,\"#f0f921\"]]}],\"contourcarpet\":[{\"type\":\"contourcarpet\",\"colorbar\":{\"outlinewidth\":0,\"ticks\":\"\"}}],\"contour\":[{\"type\":\"contour\",\"colorbar\":{\"outlinewidth\":0,\"ticks\":\"\"},\"colorscale\":[[0.0,\"#0d0887\"],[0.1111111111111111,\"#46039f\"],[0.2222222222222222,\"#7201a8\"],[0.3333333333333333,\"#9c179e\"],[0.4444444444444444,\"#bd3786\"],[0.5555555555555556,\"#d8576b\"],[0.6666666666666666,\"#ed7953\"],[0.7777777777777778,\"#fb9f3a\"],[0.8888888888888888,\"#fdca26\"],[1.0,\"#f0f921\"]]}],\"surface\":[{\"type\":\"surface\",\"colorbar\":{\"outlinewidth\":0,\"ticks\":\"\"},\"colorscale\":[[0.0,\"#0d0887\"],[0.1111111111111111,\"#46039f\"],[0.2222222222222222,\"#7201a8\"],[0.3333333333333333,\"#9c179e\"],[0.4444444444444444,\"#bd3786\"],[0.5555555555555556,\"#d8576b\"],[0.6666666666666666,\"#ed7953\"],[0.7777777777777778,\"#fb9f3a\"],[0.8888888888888888,\"#fdca26\"],[1.0,\"#f0f921\"]]}],\"mesh3d\":[{\"type\":\"mesh3d\",\"colorbar\":{\"outlinewidth\":0,\"ticks\":\"\"}}],\"scatter\":[{\"fillpattern\":{\"fillmode\":\"overlay\",\"size\":10,\"solidity\":0.2},\"type\":\"scatter\"}],\"parcoords\":[{\"type\":\"parcoords\",\"line\":{\"colorbar\":{\"outlinewidth\":0,\"ticks\":\"\"}}}],\"scatterpolargl\":[{\"type\":\"scatterpolargl\",\"marker\":{\"colorbar\":{\"outlinewidth\":0,\"ticks\":\"\"}}}],\"bar\":[{\"error_x\":{\"color\":\"#2a3f5f\"},\"error_y\":{\"color\":\"#2a3f5f\"},\"marker\":{\"line\":{\"color\":\"#E5ECF6\",\"width\":0.5},\"pattern\":{\"fillmode\":\"overlay\",\"size\":10,\"solidity\":0.2}},\"type\":\"bar\"}],\"scattergeo\":[{\"type\":\"scattergeo\",\"marker\":{\"colorbar\":{\"outlinewidth\":0,\"ticks\":\"\"}}}],\"scatterpolar\":[{\"type\":\"scatterpolar\",\"marker\":{\"colorbar\":{\"outlinewidth\":0,\"ticks\":\"\"}}}],\"histogram\":[{\"marker\":{\"pattern\":{\"fillmode\":\"overlay\",\"size\":10,\"solidity\":0.2}},\"type\":\"histogram\"}],\"scattergl\":[{\"type\":\"scattergl\",\"marker\":{\"colorbar\":{\"outlinewidth\":0,\"ticks\":\"\"}}}],\"scatter3d\":[{\"type\":\"scatter3d\",\"line\":{\"colorbar\":{\"outlinewidth\":0,\"ticks\":\"\"}},\"marker\":{\"colorbar\":{\"outlinewidth\":0,\"ticks\":\"\"}}}],\"scattermapbox\":[{\"type\":\"scattermapbox\",\"marker\":{\"colorbar\":{\"outlinewidth\":0,\"ticks\":\"\"}}}],\"scatterternary\":[{\"type\":\"scatterternary\",\"marker\":{\"colorbar\":{\"outlinewidth\":0,\"ticks\":\"\"}}}],\"scattercarpet\":[{\"type\":\"scattercarpet\",\"marker\":{\"colorbar\":{\"outlinewidth\":0,\"ticks\":\"\"}}}],\"carpet\":[{\"aaxis\":{\"endlinecolor\":\"#2a3f5f\",\"gridcolor\":\"white\",\"linecolor\":\"white\",\"minorgridcolor\":\"white\",\"startlinecolor\":\"#2a3f5f\"},\"baxis\":{\"endlinecolor\":\"#2a3f5f\",\"gridcolor\":\"white\",\"linecolor\":\"white\",\"minorgridcolor\":\"white\",\"startlinecolor\":\"#2a3f5f\"},\"type\":\"carpet\"}],\"table\":[{\"cells\":{\"fill\":{\"color\":\"#EBF0F8\"},\"line\":{\"color\":\"white\"}},\"header\":{\"fill\":{\"color\":\"#C8D4E3\"},\"line\":{\"color\":\"white\"}},\"type\":\"table\"}],\"barpolar\":[{\"marker\":{\"line\":{\"color\":\"#E5ECF6\",\"width\":0.5},\"pattern\":{\"fillmode\":\"overlay\",\"size\":10,\"solidity\":0.2}},\"type\":\"barpolar\"}],\"pie\":[{\"automargin\":true,\"type\":\"pie\"}]},\"layout\":{\"autotypenumbers\":\"strict\",\"colorway\":[\"#636efa\",\"#EF553B\",\"#00cc96\",\"#ab63fa\",\"#FFA15A\",\"#19d3f3\",\"#FF6692\",\"#B6E880\",\"#FF97FF\",\"#FECB52\"],\"font\":{\"color\":\"#2a3f5f\"},\"hovermode\":\"closest\",\"hoverlabel\":{\"align\":\"left\"},\"paper_bgcolor\":\"white\",\"plot_bgcolor\":\"#E5ECF6\",\"polar\":{\"bgcolor\":\"#E5ECF6\",\"angularaxis\":{\"gridcolor\":\"white\",\"linecolor\":\"white\",\"ticks\":\"\"},\"radialaxis\":{\"gridcolor\":\"white\",\"linecolor\":\"white\",\"ticks\":\"\"}},\"ternary\":{\"bgcolor\":\"#E5ECF6\",\"aaxis\":{\"gridcolor\":\"white\",\"linecolor\":\"white\",\"ticks\":\"\"},\"baxis\":{\"gridcolor\":\"white\",\"linecolor\":\"white\",\"ticks\":\"\"},\"caxis\":{\"gridcolor\":\"white\",\"linecolor\":\"white\",\"ticks\":\"\"}},\"coloraxis\":{\"colorbar\":{\"outlinewidth\":0,\"ticks\":\"\"}},\"colorscale\":{\"sequential\":[[0.0,\"#0d0887\"],[0.1111111111111111,\"#46039f\"],[0.2222222222222222,\"#7201a8\"],[0.3333333333333333,\"#9c179e\"],[0.4444444444444444,\"#bd3786\"],[0.5555555555555556,\"#d8576b\"],[0.6666666666666666,\"#ed7953\"],[0.7777777777777778,\"#fb9f3a\"],[0.8888888888888888,\"#fdca26\"],[1.0,\"#f0f921\"]],\"sequentialminus\":[[0.0,\"#0d0887\"],[0.1111111111111111,\"#46039f\"],[0.2222222222222222,\"#7201a8\"],[0.3333333333333333,\"#9c179e\"],[0.4444444444444444,\"#bd3786\"],[0.5555555555555556,\"#d8576b\"],[0.6666666666666666,\"#ed7953\"],[0.7777777777777778,\"#fb9f3a\"],[0.8888888888888888,\"#fdca26\"],[1.0,\"#f0f921\"]],\"diverging\":[[0,\"#8e0152\"],[0.1,\"#c51b7d\"],[0.2,\"#de77ae\"],[0.3,\"#f1b6da\"],[0.4,\"#fde0ef\"],[0.5,\"#f7f7f7\"],[0.6,\"#e6f5d0\"],[0.7,\"#b8e186\"],[0.8,\"#7fbc41\"],[0.9,\"#4d9221\"],[1,\"#276419\"]]},\"xaxis\":{\"gridcolor\":\"white\",\"linecolor\":\"white\",\"ticks\":\"\",\"title\":{\"standoff\":15},\"zerolinecolor\":\"white\",\"automargin\":true,\"zerolinewidth\":2},\"yaxis\":{\"gridcolor\":\"white\",\"linecolor\":\"white\",\"ticks\":\"\",\"title\":{\"standoff\":15},\"zerolinecolor\":\"white\",\"automargin\":true,\"zerolinewidth\":2},\"scene\":{\"xaxis\":{\"backgroundcolor\":\"#E5ECF6\",\"gridcolor\":\"white\",\"linecolor\":\"white\",\"showbackground\":true,\"ticks\":\"\",\"zerolinecolor\":\"white\",\"gridwidth\":2},\"yaxis\":{\"backgroundcolor\":\"#E5ECF6\",\"gridcolor\":\"white\",\"linecolor\":\"white\",\"showbackground\":true,\"ticks\":\"\",\"zerolinecolor\":\"white\",\"gridwidth\":2},\"zaxis\":{\"backgroundcolor\":\"#E5ECF6\",\"gridcolor\":\"white\",\"linecolor\":\"white\",\"showbackground\":true,\"ticks\":\"\",\"zerolinecolor\":\"white\",\"gridwidth\":2}},\"shapedefaults\":{\"line\":{\"color\":\"#2a3f5f\"}},\"annotationdefaults\":{\"arrowcolor\":\"#2a3f5f\",\"arrowhead\":0,\"arrowwidth\":1},\"geo\":{\"bgcolor\":\"white\",\"landcolor\":\"#E5ECF6\",\"subunitcolor\":\"white\",\"showland\":true,\"showlakes\":true,\"lakecolor\":\"white\"},\"title\":{\"x\":0.05},\"mapbox\":{\"style\":\"light\"}}},\"geo\":{\"domain\":{\"x\":[0.0,1.0],\"y\":[0.0,1.0]},\"center\":{}},\"coloraxis\":{\"colorbar\":{\"title\":{\"text\":\"Cluster\"}},\"colorscale\":[[0.0,\"#0d0887\"],[0.1111111111111111,\"#46039f\"],[0.2222222222222222,\"#7201a8\"],[0.3333333333333333,\"#9c179e\"],[0.4444444444444444,\"#bd3786\"],[0.5555555555555556,\"#d8576b\"],[0.6666666666666666,\"#ed7953\"],[0.7777777777777778,\"#fb9f3a\"],[0.8888888888888888,\"#fdca26\"],[1.0,\"#f0f921\"]]},\"legend\":{\"tracegroupgap\":0},\"margin\":{\"t\":60}},                        {\"responsive\": true}                    ).then(function(){\n",
       "                            \n",
       "var gd = document.getElementById('7579a368-90bf-43fa-9dec-1ba8ea6e54f3');\n",
       "var x = new MutationObserver(function (mutations, observer) {{\n",
       "        var display = window.getComputedStyle(gd).display;\n",
       "        if (!display || display === 'none') {{\n",
       "            console.log([gd, 'removed!']);\n",
       "            Plotly.purge(gd);\n",
       "            observer.disconnect();\n",
       "        }}\n",
       "}});\n",
       "\n",
       "// Listen for the removal of the full notebook cells\n",
       "var notebookContainer = gd.closest('#notebook-container');\n",
       "if (notebookContainer) {{\n",
       "    x.observe(notebookContainer, {childList: true});\n",
       "}}\n",
       "\n",
       "// Listen for the clearing of the current output cell\n",
       "var outputEl = gd.closest('.output');\n",
       "if (outputEl) {{\n",
       "    x.observe(outputEl, {childList: true});\n",
       "}}\n",
       "\n",
       "                        })                };                });            </script>        </div>"
      ]
     },
     "metadata": {},
     "output_type": "display_data"
    }
   ],
   "source": [
    "fig.show()\n"
   ]
  },
  {
   "cell_type": "markdown",
   "id": "6bb9dc7e",
   "metadata": {
    "papermill": {
     "duration": 0.019785,
     "end_time": "2024-08-23T18:10:35.849382",
     "exception": false,
     "start_time": "2024-08-23T18:10:35.829597",
     "status": "completed"
    },
    "tags": []
   },
   "source": [
    "# <p style=\"width: 800px; border-radius: 12px; border: 3px dashed #ffe81c; padding: 20px; background-color: #058BDD; text-align: center; box-shadow: 0px 6px 12px rgba(0, 0, 0, 0.3); color: #F0FF00; text-shadow: 1px 1px 2px rgba(0, 0, 0, 0.3); font-weight: bold; margin-bottom: 15px; font-size: 30px;\">   give meaning Cluster.\n",
    " </p>"
   ]
  },
  {
   "cell_type": "code",
   "execution_count": 1,
   "id": "cf623380",
   "metadata": {
    "execution": {
     "iopub.execute_input": "2024-08-23T18:10:35.891055Z",
     "iopub.status.busy": "2024-08-23T18:10:35.890610Z",
     "iopub.status.idle": "2024-08-23T18:10:35.896498Z",
     "shell.execute_reply": "2024-08-23T18:10:35.895084Z"
    },
    "papermill": {
     "duration": 0.029217,
     "end_time": "2024-08-23T18:10:35.899150",
     "exception": false,
     "start_time": "2024-08-23T18:10:35.869933",
     "status": "completed"
    },
    "tags": []
   },
   "outputs": [],
   "source": [
    "Cluster={\n",
    "        0:\"High\",\n",
    "        1:\"Median\",\n",
    "        2:\"Low\",\n",
    "        3:\"Very low\"\n",
    "\n",
    "}"
   ]
  },
  {
   "cell_type": "code",
   "execution_count": 31,
   "id": "b571149e",
   "metadata": {
    "execution": {
     "iopub.execute_input": "2024-08-23T18:10:35.956152Z",
     "iopub.status.busy": "2024-08-23T18:10:35.954254Z",
     "iopub.status.idle": "2024-08-23T18:10:35.975980Z",
     "shell.execute_reply": "2024-08-23T18:10:35.974777Z"
    },
    "papermill": {
     "duration": 0.051567,
     "end_time": "2024-08-23T18:10:35.979764",
     "exception": false,
     "start_time": "2024-08-23T18:10:35.928197",
     "status": "completed"
    },
    "tags": []
   },
   "outputs": [
    {
     "data": {
      "text/html": [
       "<div>\n",
       "<style scoped>\n",
       "    .dataframe tbody tr th:only-of-type {\n",
       "        vertical-align: middle;\n",
       "    }\n",
       "\n",
       "    .dataframe tbody tr th {\n",
       "        vertical-align: top;\n",
       "    }\n",
       "\n",
       "    .dataframe thead th {\n",
       "        text-align: right;\n",
       "    }\n",
       "</style>\n",
       "<table border=\"1\" class=\"dataframe\">\n",
       "  <thead>\n",
       "    <tr style=\"text-align: right;\">\n",
       "      <th></th>\n",
       "      <th>City</th>\n",
       "      <th>Country</th>\n",
       "      <th>Population_2023</th>\n",
       "      <th>Growth_Rate (%)</th>\n",
       "      <th>Population_2024</th>\n",
       "      <th>Cluster</th>\n",
       "      <th>ISO Code</th>\n",
       "    </tr>\n",
       "  </thead>\n",
       "  <tbody>\n",
       "    <tr>\n",
       "      <th>0</th>\n",
       "      <td>Los Angeles</td>\n",
       "      <td>USA</td>\n",
       "      <td>26836512</td>\n",
       "      <td>1.308574</td>\n",
       "      <td>27187687</td>\n",
       "      <td>Median</td>\n",
       "      <td>USA</td>\n",
       "    </tr>\n",
       "    <tr>\n",
       "      <th>1</th>\n",
       "      <td>Shanghai</td>\n",
       "      <td>China</td>\n",
       "      <td>11673774</td>\n",
       "      <td>1.568945</td>\n",
       "      <td>11856929</td>\n",
       "      <td>High</td>\n",
       "      <td>CHN</td>\n",
       "    </tr>\n",
       "    <tr>\n",
       "      <th>2</th>\n",
       "      <td>Cairo</td>\n",
       "      <td>Egypt</td>\n",
       "      <td>22201723</td>\n",
       "      <td>4.871278</td>\n",
       "      <td>23283230</td>\n",
       "      <td>Very low</td>\n",
       "      <td>EGY</td>\n",
       "    </tr>\n",
       "    <tr>\n",
       "      <th>3</th>\n",
       "      <td>Mumbai</td>\n",
       "      <td>India</td>\n",
       "      <td>11440139</td>\n",
       "      <td>1.314396</td>\n",
       "      <td>11590507</td>\n",
       "      <td>High</td>\n",
       "      <td>IND</td>\n",
       "    </tr>\n",
       "    <tr>\n",
       "      <th>4</th>\n",
       "      <td>Los Angeles</td>\n",
       "      <td>USA</td>\n",
       "      <td>3792427</td>\n",
       "      <td>4.344733</td>\n",
       "      <td>3957197</td>\n",
       "      <td>Low</td>\n",
       "      <td>USA</td>\n",
       "    </tr>\n",
       "    <tr>\n",
       "      <th>...</th>\n",
       "      <td>...</td>\n",
       "      <td>...</td>\n",
       "      <td>...</td>\n",
       "      <td>...</td>\n",
       "      <td>...</td>\n",
       "      <td>...</td>\n",
       "      <td>...</td>\n",
       "    </tr>\n",
       "    <tr>\n",
       "      <th>995</th>\n",
       "      <td>Sydney</td>\n",
       "      <td>Australia</td>\n",
       "      <td>29207970</td>\n",
       "      <td>2.687002</td>\n",
       "      <td>29992788</td>\n",
       "      <td>Median</td>\n",
       "      <td>AUS</td>\n",
       "    </tr>\n",
       "    <tr>\n",
       "      <th>996</th>\n",
       "      <td>Sydney</td>\n",
       "      <td>Australia</td>\n",
       "      <td>12006745</td>\n",
       "      <td>3.097399</td>\n",
       "      <td>12378641</td>\n",
       "      <td>High</td>\n",
       "      <td>AUS</td>\n",
       "    </tr>\n",
       "    <tr>\n",
       "      <th>997</th>\n",
       "      <td>Cairo</td>\n",
       "      <td>Egypt</td>\n",
       "      <td>21991495</td>\n",
       "      <td>0.696826</td>\n",
       "      <td>22144737</td>\n",
       "      <td>Very low</td>\n",
       "      <td>EGY</td>\n",
       "    </tr>\n",
       "    <tr>\n",
       "      <th>998</th>\n",
       "      <td>Tokyo</td>\n",
       "      <td>Japan</td>\n",
       "      <td>12950831</td>\n",
       "      <td>1.053515</td>\n",
       "      <td>13087269</td>\n",
       "      <td>High</td>\n",
       "      <td>JPN</td>\n",
       "    </tr>\n",
       "    <tr>\n",
       "      <th>999</th>\n",
       "      <td>Moscow</td>\n",
       "      <td>Russia</td>\n",
       "      <td>2257949</td>\n",
       "      <td>3.013891</td>\n",
       "      <td>2326001</td>\n",
       "      <td>Low</td>\n",
       "      <td>RUS</td>\n",
       "    </tr>\n",
       "  </tbody>\n",
       "</table>\n",
       "<p>1000 rows × 7 columns</p>\n",
       "</div>"
      ],
      "text/plain": [
       "            City    Country  Population_2023  Growth_Rate (%)  \\\n",
       "0    Los Angeles        USA         26836512         1.308574   \n",
       "1       Shanghai      China         11673774         1.568945   \n",
       "2          Cairo      Egypt         22201723         4.871278   \n",
       "3         Mumbai      India         11440139         1.314396   \n",
       "4    Los Angeles        USA          3792427         4.344733   \n",
       "..           ...        ...              ...              ...   \n",
       "995       Sydney  Australia         29207970         2.687002   \n",
       "996       Sydney  Australia         12006745         3.097399   \n",
       "997        Cairo      Egypt         21991495         0.696826   \n",
       "998        Tokyo      Japan         12950831         1.053515   \n",
       "999       Moscow     Russia          2257949         3.013891   \n",
       "\n",
       "     Population_2024   Cluster ISO Code  \n",
       "0           27187687    Median      USA  \n",
       "1           11856929      High      CHN  \n",
       "2           23283230  Very low      EGY  \n",
       "3           11590507      High      IND  \n",
       "4            3957197       Low      USA  \n",
       "..               ...       ...      ...  \n",
       "995         29992788    Median      AUS  \n",
       "996         12378641      High      AUS  \n",
       "997         22144737  Very low      EGY  \n",
       "998         13087269      High      JPN  \n",
       "999          2326001       Low      RUS  \n",
       "\n",
       "[1000 rows x 7 columns]"
      ]
     },
     "execution_count": 31,
     "metadata": {},
     "output_type": "execute_result"
    }
   ],
   "source": [
    "df['Cluster']=df['Cluster'].map(Cluster)\n",
    "df"
   ]
  }
 ],
 "metadata": {
  "kaggle": {
   "accelerator": "none",
   "dataSources": [
    {
     "datasetId": 5572438,
     "sourceId": 9215394,
     "sourceType": "datasetVersion"
    },
    {
     "datasetId": 5585020,
     "sourceId": 9233569,
     "sourceType": "datasetVersion"
    }
   ],
   "dockerImageVersionId": 30761,
   "isGpuEnabled": false,
   "isInternetEnabled": true,
   "language": "python",
   "sourceType": "notebook"
  },
  "kernelspec": {
   "display_name": "Python 3",
   "language": "python",
   "name": "python3"
  },
  "language_info": {
   "codemirror_mode": {
    "name": "ipython",
    "version": 3
   },
   "file_extension": ".py",
   "mimetype": "text/x-python",
   "name": "python",
   "nbconvert_exporter": "python",
   "pygments_lexer": "ipython3",
   "version": "3.12.4"
  },
  "papermill": {
   "default_parameters": {},
   "duration": 42.686901,
   "end_time": "2024-08-23T18:10:36.935429",
   "environment_variables": {},
   "exception": null,
   "input_path": "__notebook__.ipynb",
   "output_path": "__notebook__.ipynb",
   "parameters": {},
   "start_time": "2024-08-23T18:09:54.248528",
   "version": "2.6.0"
  }
 },
 "nbformat": 4,
 "nbformat_minor": 5
}
